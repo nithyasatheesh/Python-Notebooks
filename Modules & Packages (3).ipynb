{
 "cells": [
  {
   "cell_type": "markdown",
   "id": "6e7f7329",
   "metadata": {},
   "source": [
    "### Modules & Packages"
   ]
  },
  {
   "cell_type": "markdown",
   "id": "edca5b4b",
   "metadata": {},
   "source": [
    "A Python module is a file containing Python definitions and statements. \n",
    "A module can define functions, classes, and variables. \n",
    "A module can also include runnable code. \n",
    "Grouping related code into a module makes the code easier to understand and use. \n",
    "It also makes the code logically organized."
   ]
  },
  {
   "cell_type": "markdown",
   "id": "3f7d2151",
   "metadata": {},
   "source": [
    "Packages allow you to organize modules in the hierarchical structure.\n",
    "\n",
    "The way Python organizes packages and modules like the Operating System structures the folders and files."
   ]
  },
  {
   "cell_type": "markdown",
   "id": "46b3b183",
   "metadata": {},
   "source": [
    "#### .py extension\n",
    "#### the module contains,\n",
    "  - Definitions and implementation of classes\n",
    "  \n",
    "  - variables\n",
    "    \n",
    "  - Functions that can be used inside another program  "
   ]
  },
  {
   "cell_type": "markdown",
   "id": "b8bc97d4",
   "metadata": {},
   "source": [
    "##### To import a package, you use the import statement like this:\n",
    "\n",
    "import package.module\n",
    "\n",
    "##### To access an object from a module that belongs to a package, you use the dot notation:\n",
    "\n",
    "package.module.function\n",
    "\n",
    "##### To make the code more concise, you can use the following statement to import a function \n",
    "##### from a module:\n",
    "\n",
    "from <module> import <function>"
   ]
  },
  {
   "cell_type": "code",
   "execution_count": null,
   "id": "35265a69",
   "metadata": {},
   "outputs": [],
   "source": [
    "#### Create a module"
   ]
  },
  {
   "cell_type": "code",
   "execution_count": null,
   "id": "d7d4ab22",
   "metadata": {},
   "outputs": [],
   "source": [
    "#### create a file with extension .py\n",
    "### create mymodule.py"
   ]
  },
  {
   "cell_type": "code",
   "execution_count": 1,
   "id": "0e18e9a7",
   "metadata": {},
   "outputs": [
    {
     "name": "stdout",
     "output_type": "stream",
     "text": [
      "Hello Ravi\n"
     ]
    }
   ],
   "source": [
    "# using 'import'keyword to import module\n",
    "import mymodule\n",
    "mymodule.welcome(\"Ravi\")"
   ]
  },
  {
   "cell_type": "code",
   "execution_count": 2,
   "id": "149935d8",
   "metadata": {},
   "outputs": [
    {
     "data": {
      "text/plain": [
       "(23, 456, 78)"
      ]
     },
     "execution_count": 2,
     "metadata": {},
     "output_type": "execute_result"
    }
   ],
   "source": [
    "mymodule.t1"
   ]
  },
  {
   "cell_type": "code",
   "execution_count": 4,
   "id": "2a3af9c8",
   "metadata": {},
   "outputs": [
    {
     "data": {
      "text/plain": [
       "3"
      ]
     },
     "execution_count": 4,
     "metadata": {},
     "output_type": "execute_result"
    }
   ],
   "source": [
    "# create newmodule.py\n",
    "import newmodule\n",
    "newmodule.add(1,2)"
   ]
  },
  {
   "cell_type": "code",
   "execution_count": null,
   "id": "6e2cd17b",
   "metadata": {},
   "outputs": [],
   "source": [
    "newmodule.sub(6,9)"
   ]
  },
  {
   "cell_type": "code",
   "execution_count": 9,
   "id": "6ca3b8e6",
   "metadata": {},
   "outputs": [],
   "source": [
    "# create mymodule2\n",
    "import mymodule as mymodule2"
   ]
  },
  {
   "cell_type": "code",
   "execution_count": 10,
   "id": "b23ed1b0",
   "metadata": {},
   "outputs": [
    {
     "data": {
      "text/plain": [
       "25"
      ]
     },
     "execution_count": 10,
     "metadata": {},
     "output_type": "execute_result"
    }
   ],
   "source": [
    "mymodule2.p['age']"
   ]
  },
  {
   "cell_type": "code",
   "execution_count": 12,
   "id": "b3eacde3",
   "metadata": {},
   "outputs": [
    {
     "data": {
      "text/plain": [
       "{'id': 4, 'age': 25, 'salary': '4L'}"
      ]
     },
     "execution_count": 12,
     "metadata": {},
     "output_type": "execute_result"
    }
   ],
   "source": [
    "mymodule2.p"
   ]
  },
  {
   "cell_type": "code",
   "execution_count": null,
   "id": "dfb981e9",
   "metadata": {},
   "outputs": [],
   "source": [
    "### Built - in - Modules"
   ]
  },
  {
   "cell_type": "code",
   "execution_count": null,
   "id": "4dda17b2",
   "metadata": {},
   "outputs": [],
   "source": [
    "help('modules')"
   ]
  },
  {
   "cell_type": "code",
   "execution_count": null,
   "id": "5e9d1e54",
   "metadata": {},
   "outputs": [],
   "source": [
    "# math \n",
    "# statistics\n",
    "# os\n",
    "# random"
   ]
  },
  {
   "cell_type": "code",
   "execution_count": 13,
   "id": "21fe7e75",
   "metadata": {},
   "outputs": [
    {
     "data": {
      "text/plain": [
       "1.7320508075688772"
      ]
     },
     "execution_count": 13,
     "metadata": {},
     "output_type": "execute_result"
    }
   ],
   "source": [
    "#math\n",
    "import math\n",
    "math.sqrt(3)"
   ]
  },
  {
   "cell_type": "code",
   "execution_count": 14,
   "id": "e8c8cb2d",
   "metadata": {},
   "outputs": [
    {
     "data": {
      "text/plain": [
       "3.141592653589793"
      ]
     },
     "execution_count": 14,
     "metadata": {},
     "output_type": "execute_result"
    }
   ],
   "source": [
    "math.pi"
   ]
  },
  {
   "cell_type": "code",
   "execution_count": 15,
   "id": "c8add20d",
   "metadata": {},
   "outputs": [
    {
     "data": {
      "text/plain": [
       "0.5235987755982988"
      ]
     },
     "execution_count": 15,
     "metadata": {},
     "output_type": "execute_result"
    }
   ],
   "source": [
    "math.radians(30)"
   ]
  },
  {
   "cell_type": "code",
   "execution_count": 16,
   "id": "99060073",
   "metadata": {},
   "outputs": [],
   "source": [
    "# statistics\n",
    "import statistics"
   ]
  },
  {
   "cell_type": "code",
   "execution_count": 17,
   "id": "7b6299f3",
   "metadata": {},
   "outputs": [
    {
     "data": {
      "text/plain": [
       "26.666666666666668"
      ]
     },
     "execution_count": 17,
     "metadata": {},
     "output_type": "execute_result"
    }
   ],
   "source": [
    "l=[9,12,13,67,14,45]\n",
    "statistics.mean(l)"
   ]
  },
  {
   "cell_type": "code",
   "execution_count": 19,
   "id": "0ef4ac9d",
   "metadata": {},
   "outputs": [
    {
     "data": {
      "text/plain": [
       "13.5"
      ]
     },
     "execution_count": 19,
     "metadata": {},
     "output_type": "execute_result"
    }
   ],
   "source": [
    "statistics.median(l)\n",
    "#statistics.std(l)"
   ]
  },
  {
   "cell_type": "code",
   "execution_count": 20,
   "id": "5571ec4e",
   "metadata": {},
   "outputs": [
    {
     "data": {
      "text/plain": [
       "'C:\\\\Users\\\\nithyalakshmim\\\\PYTHON\\\\2023\\\\Deloitte\\\\Deloitte - DTA\\\\RPA-2\\\\Day - 2'"
      ]
     },
     "execution_count": 20,
     "metadata": {},
     "output_type": "execute_result"
    }
   ],
   "source": [
    "# os\n",
    "import os\n",
    "#view working directory\n",
    "os.getcwd()"
   ]
  },
  {
   "cell_type": "code",
   "execution_count": 21,
   "id": "3c67f413",
   "metadata": {},
   "outputs": [],
   "source": [
    "# changing working directory\n",
    "os.chdir(\"D://Files\")"
   ]
  },
  {
   "cell_type": "code",
   "execution_count": 23,
   "id": "5b454961",
   "metadata": {},
   "outputs": [],
   "source": [
    "#make directory\n",
    "os.mkdir(\"D://Files//new\")"
   ]
  },
  {
   "cell_type": "code",
   "execution_count": 24,
   "id": "bd3e55dd",
   "metadata": {},
   "outputs": [
    {
     "data": {
      "text/plain": [
       "0.7675873558142409"
      ]
     },
     "execution_count": 24,
     "metadata": {},
     "output_type": "execute_result"
    }
   ],
   "source": [
    "#random\n",
    "import random\n",
    "#generate random floats\n",
    "random.random()"
   ]
  },
  {
   "cell_type": "code",
   "execution_count": 25,
   "id": "6f635141",
   "metadata": {},
   "outputs": [
    {
     "data": {
      "text/plain": [
       "16"
      ]
     },
     "execution_count": 25,
     "metadata": {},
     "output_type": "execute_result"
    }
   ],
   "source": [
    "# generate random integers\n",
    "random.randint(1,100)"
   ]
  },
  {
   "cell_type": "code",
   "execution_count": 27,
   "id": "99ce283d",
   "metadata": {},
   "outputs": [
    {
     "data": {
      "text/plain": [
       "'c'"
      ]
     },
     "execution_count": 27,
     "metadata": {},
     "output_type": "execute_result"
    }
   ],
   "source": [
    "#select random elements\n",
    "random.choice('computer')"
   ]
  },
  {
   "cell_type": "code",
   "execution_count": 28,
   "id": "7c47ffd7",
   "metadata": {},
   "outputs": [
    {
     "data": {
      "text/plain": [
       "9"
      ]
     },
     "execution_count": 28,
     "metadata": {},
     "output_type": "execute_result"
    }
   ],
   "source": [
    "#generate random numbers within range\n",
    "x=random.randrange(1,10,2) # (start,stop,step)[1,3,5,7,9]\n",
    "x\n",
    "# random.randrange(1,10) # by default skip =1--> contains all the numbers between 1 to 10."
   ]
  },
  {
   "cell_type": "code",
   "execution_count": 29,
   "id": "c64e223c",
   "metadata": {},
   "outputs": [
    {
     "name": "stdout",
     "output_type": "stream",
     "text": [
      "Today's date: 2023-12-12\n"
     ]
    }
   ],
   "source": [
    "from datetime import date\n",
    "today = date.today()\n",
    "print(\"Today's date:\", today)"
   ]
  },
  {
   "cell_type": "code",
   "execution_count": null,
   "id": "3079b06f",
   "metadata": {},
   "outputs": [],
   "source": [
    "#### Modules Vs Packages"
   ]
  },
  {
   "cell_type": "markdown",
   "id": "1fbeec82",
   "metadata": {},
   "source": [
    "Module: The module is a simple Python file that contains collections of functions and global variables and with having a .py extension file. It is an executable file and to organize all the modules we have the concept called Package in Python.\n",
    "\n",
    "Package: The package is a simple directory having collections of modules. This directory contains Python modules and also having __init__.py file by which the interpreter interprets it as a Package. The package is simply a namespace. The package also contains sub-packages inside it."
   ]
  },
  {
   "cell_type": "code",
   "execution_count": null,
   "id": "04a1ec37",
   "metadata": {},
   "outputs": [],
   "source": [
    "#Create Package"
   ]
  },
  {
   "cell_type": "raw",
   "id": "867fab9d",
   "metadata": {},
   "source": [
    "Step:1 Create a folder/package MyPackage\n",
    "step 2: Save .py files in that folder\n",
    "step 3: create and save__init__.py file\n",
    "step 4: pip install package name\n",
    "step 5: import packagename\n",
    "step 7: from packagename import modulename\n",
    "    "
   ]
  },
  {
   "cell_type": "code",
   "execution_count": 30,
   "id": "69eba8a2",
   "metadata": {
    "collapsed": true
   },
   "outputs": [
    {
     "name": "stdout",
     "output_type": "stream",
     "text": [
      "Requirement already satisfied: Mypackage in c:\\users\\nithyalakshmim\\anaconda\\lib\\site-packages (0.1)\n",
      "Requirement already satisfied: cmd2 in c:\\users\\nithyalakshmim\\anaconda\\lib\\site-packages (from Mypackage) (2.4.3)\n",
      "Requirement already satisfied: pyperclip>=1.6 in c:\\users\\nithyalakshmim\\anaconda\\lib\\site-packages (from cmd2->Mypackage) (1.8.2)\n",
      "Requirement already satisfied: pyreadline3 in c:\\users\\nithyalakshmim\\anaconda\\lib\\site-packages (from cmd2->Mypackage) (3.4.1)\n",
      "Requirement already satisfied: attrs>=16.3.0 in c:\\users\\nithyalakshmim\\anaconda\\lib\\site-packages (from cmd2->Mypackage) (21.4.0)\n",
      "Requirement already satisfied: wcwidth>=0.1.7 in c:\\users\\nithyalakshmim\\anaconda\\lib\\site-packages (from cmd2->Mypackage) (0.2.5)\n"
     ]
    },
    {
     "name": "stderr",
     "output_type": "stream",
     "text": [
      "\n",
      "[notice] A new release of pip available: 23.0.1 -> 23.3.1\n",
      "[notice] To update, run: python.exe -m pip install --upgrade pip\n"
     ]
    }
   ],
   "source": [
    "!pip install Mypackage\n",
    "#!conda install Mypackage"
   ]
  },
  {
   "cell_type": "code",
   "execution_count": 32,
   "id": "443aa34d",
   "metadata": {},
   "outputs": [],
   "source": [
    "#load package\n",
    "import os\n",
    "os.chdir(\"D://Nithya\")\n",
    "import Mypackage"
   ]
  },
  {
   "cell_type": "code",
   "execution_count": 33,
   "id": "46842cc3",
   "metadata": {},
   "outputs": [],
   "source": [
    "#load module\n",
    "from Mypackage import mymodule"
   ]
  },
  {
   "cell_type": "code",
   "execution_count": 34,
   "id": "02810e78",
   "metadata": {},
   "outputs": [
    {
     "name": "stdout",
     "output_type": "stream",
     "text": [
      "Hello Riya\n"
     ]
    }
   ],
   "source": [
    "mymodule.welcome('Riya')"
   ]
  },
  {
   "cell_type": "markdown",
   "id": "e713b45c",
   "metadata": {},
   "source": [
    "-------------------------------------------------- End ---------------------------------------------"
   ]
  }
 ],
 "metadata": {
  "kernelspec": {
   "display_name": "Python 3 (ipykernel)",
   "language": "python",
   "name": "python3"
  },
  "language_info": {
   "codemirror_mode": {
    "name": "ipython",
    "version": 3
   },
   "file_extension": ".py",
   "mimetype": "text/x-python",
   "name": "python",
   "nbconvert_exporter": "python",
   "pygments_lexer": "ipython3",
   "version": "3.9.13"
  }
 },
 "nbformat": 4,
 "nbformat_minor": 5
}
