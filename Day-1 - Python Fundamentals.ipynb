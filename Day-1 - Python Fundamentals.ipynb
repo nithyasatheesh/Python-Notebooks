{
 "cells": [
  {
   "cell_type": "markdown",
   "id": "5e30b664",
   "metadata": {},
   "source": [
    "Jupyter notebook file extension-->.ipynb\n",
    "\n",
    "Run code--> shift+enter / ctrl +enter"
   ]
  },
  {
   "cell_type": "markdown",
   "id": "1876b06b",
   "metadata": {},
   "source": [
    "## Python Fundamentals"
   ]
  },
  {
   "cell_type": "markdown",
   "id": "d5fd58f4",
   "metadata": {},
   "source": [
    "### Heading cell\n",
    "##### Python Fundamentals"
   ]
  },
  {
   "cell_type": "markdown",
   "id": "58975f50",
   "metadata": {},
   "source": [
    "**Basics in Python**\n",
    "\n",
    "- Comments\n",
    "\n",
    "- Variable\n",
    "\n",
    "+ Keywords\n",
    "\n",
    "* Constant\n",
    "\n",
    "**Data types**\n",
    "\n",
    "**Operators**\n",
    "\n",
    "**Conditional statements & Looping strucutures**\n",
    "\n",
    "**Data Structures**"
   ]
  },
  {
   "cell_type": "markdown",
   "id": "5a944683",
   "metadata": {},
   "source": [
    "#### Comments"
   ]
  },
  {
   "cell_type": "markdown",
   "id": "f0c4f44c",
   "metadata": {},
   "source": [
    "#### Introduction to Python"
   ]
  },
  {
   "cell_type": "code",
   "execution_count": 1,
   "id": "b1a8e3c1",
   "metadata": {},
   "outputs": [],
   "source": [
    "# Introduction to Python"
   ]
  },
  {
   "cell_type": "code",
   "execution_count": 2,
   "id": "c6e05acd",
   "metadata": {},
   "outputs": [],
   "source": [
    "#multi line comments\n",
    "'''This is the first line\n",
    "This is the second line\n",
    "This is the third line'''\n",
    "a=5"
   ]
  },
  {
   "cell_type": "markdown",
   "id": "a023bcd1",
   "metadata": {},
   "source": [
    "#### Variable\n",
    "- store a value"
   ]
  },
  {
   "cell_type": "code",
   "execution_count": 3,
   "id": "2d54560d",
   "metadata": {},
   "outputs": [],
   "source": [
    "a=5"
   ]
  },
  {
   "cell_type": "markdown",
   "id": "b32233fc",
   "metadata": {},
   "source": [
    "### pep 8 documentation\n",
    "\n",
    "- Variable name should not start with digit.\n",
    "- Variable name should not contain any special symbols except '_'"
   ]
  },
  {
   "cell_type": "code",
   "execution_count": 4,
   "id": "6f739db5",
   "metadata": {},
   "outputs": [
    {
     "ename": "SyntaxError",
     "evalue": "invalid syntax (1794405864.py, line 1)",
     "output_type": "error",
     "traceback": [
      "\u001b[1;36m  File \u001b[1;32m\"C:\\Users\\nithyalakshmim\\AppData\\Local\\Temp\\ipykernel_9328\\1794405864.py\"\u001b[1;36m, line \u001b[1;32m1\u001b[0m\n\u001b[1;33m    6b=10\u001b[0m\n\u001b[1;37m     ^\u001b[0m\n\u001b[1;31mSyntaxError\u001b[0m\u001b[1;31m:\u001b[0m invalid syntax\n"
     ]
    }
   ],
   "source": [
    "6b=10"
   ]
  },
  {
   "cell_type": "code",
   "execution_count": null,
   "id": "dff8af3a",
   "metadata": {},
   "outputs": [],
   "source": [
    "a$b=8"
   ]
  },
  {
   "cell_type": "code",
   "execution_count": null,
   "id": "a8d49635",
   "metadata": {},
   "outputs": [],
   "source": [
    "a_b=9"
   ]
  },
  {
   "cell_type": "markdown",
   "id": "cc9d9854",
   "metadata": {},
   "source": [
    "- Python is case sensitive\n",
    "- Python index starts from 0."
   ]
  },
  {
   "cell_type": "code",
   "execution_count": null,
   "id": "982a4704",
   "metadata": {},
   "outputs": [],
   "source": [
    "A=10"
   ]
  },
  {
   "cell_type": "code",
   "execution_count": null,
   "id": "10c62e70",
   "metadata": {},
   "outputs": [],
   "source": [
    "b=4;c=7;d=3"
   ]
  },
  {
   "cell_type": "code",
   "execution_count": null,
   "id": "469be086",
   "metadata": {},
   "outputs": [],
   "source": [
    "b=c=d=10"
   ]
  },
  {
   "cell_type": "markdown",
   "id": "284f8072",
   "metadata": {},
   "source": [
    "#### Keywords\n",
    "\n",
    "- reserved words (36 keywords)\n",
    "\n",
    "- if , else, def, return, True, False, None, elif....."
   ]
  },
  {
   "cell_type": "markdown",
   "id": "d472bac6",
   "metadata": {},
   "source": [
    "#### Constant\n",
    "\n"
   ]
  },
  {
   "cell_type": "code",
   "execution_count": null,
   "id": "608122ca",
   "metadata": {},
   "outputs": [],
   "source": [
    "pi=3.14"
   ]
  },
  {
   "cell_type": "code",
   "execution_count": null,
   "id": "200b571e",
   "metadata": {},
   "outputs": [],
   "source": [
    "# output\n",
    "a"
   ]
  },
  {
   "cell_type": "code",
   "execution_count": null,
   "id": "717e83f6",
   "metadata": {},
   "outputs": [],
   "source": [
    "# output: The value of a is 5\n",
    "print(\"The value of a is\",a)"
   ]
  },
  {
   "cell_type": "code",
   "execution_count": null,
   "id": "9cd5edff",
   "metadata": {},
   "outputs": [],
   "source": [
    "print(\"The value of b is {}\".format(b))"
   ]
  },
  {
   "cell_type": "code",
   "execution_count": null,
   "id": "395f8abb",
   "metadata": {},
   "outputs": [],
   "source": [
    "print(f\"The value of b is {b}\")"
   ]
  },
  {
   "cell_type": "code",
   "execution_count": null,
   "id": "d2e83732",
   "metadata": {},
   "outputs": [],
   "source": [
    "# output: The value of c is 78 and d is 11\n",
    "c=78\n",
    "d=11\n",
    "print(\"The value of c is\",c,\"and d is\",d)\n",
    "print(\"The value of c is {} and d is {}\".format(c,d))\n",
    "print(f\"The value of c is {c} and d is {d}\")"
   ]
  },
  {
   "cell_type": "markdown",
   "id": "b833b0b1",
   "metadata": {},
   "source": [
    "#### Data types\n",
    "\n",
    "- numeric (int, float)\n",
    "- bool\n",
    "- complex\n",
    "- string"
   ]
  },
  {
   "cell_type": "code",
   "execution_count": null,
   "id": "a13772ec",
   "metadata": {},
   "outputs": [],
   "source": [
    "#int\n",
    "var1=12"
   ]
  },
  {
   "cell_type": "code",
   "execution_count": null,
   "id": "6922a9f2",
   "metadata": {},
   "outputs": [],
   "source": [
    "# type of a variable\n",
    "type(var1)"
   ]
  },
  {
   "cell_type": "code",
   "execution_count": null,
   "id": "a32e7e56",
   "metadata": {},
   "outputs": [],
   "source": [
    "#float\n",
    "var2=5.6"
   ]
  },
  {
   "cell_type": "code",
   "execution_count": null,
   "id": "826a8a01",
   "metadata": {},
   "outputs": [],
   "source": [
    "type(var2)"
   ]
  },
  {
   "cell_type": "code",
   "execution_count": null,
   "id": "961f2eb7",
   "metadata": {},
   "outputs": [],
   "source": [
    "#bool\n",
    "var3=True\n",
    "type(var3)"
   ]
  },
  {
   "cell_type": "code",
   "execution_count": null,
   "id": "18c06262",
   "metadata": {},
   "outputs": [],
   "source": [
    "#complex\n",
    "var4=3+4j\n",
    "type(var4)"
   ]
  },
  {
   "cell_type": "code",
   "execution_count": null,
   "id": "5aced69c",
   "metadata": {},
   "outputs": [],
   "source": [
    "#string\n",
    "var5='Welcome'\n",
    "type(var5)"
   ]
  },
  {
   "cell_type": "code",
   "execution_count": null,
   "id": "32605dc3",
   "metadata": {},
   "outputs": [],
   "source": [
    "## add integer value and float value then check data type\n",
    "v=var1+var2\n",
    "type(v)"
   ]
  },
  {
   "cell_type": "code",
   "execution_count": null,
   "id": "b122476d",
   "metadata": {},
   "outputs": [],
   "source": [
    "F=23.67543\n",
    "# round it into 2 decimal places"
   ]
  },
  {
   "cell_type": "code",
   "execution_count": null,
   "id": "5735a586",
   "metadata": {},
   "outputs": [],
   "source": [
    "# round(value, no of decimal places)\n",
    "round(F,2)"
   ]
  },
  {
   "cell_type": "code",
   "execution_count": null,
   "id": "d3a9b0ee",
   "metadata": {},
   "outputs": [],
   "source": [
    "print('%.2f' % F)"
   ]
  },
  {
   "cell_type": "code",
   "execution_count": null,
   "id": "82f85d2e",
   "metadata": {},
   "outputs": [],
   "source": [
    "print('%.1f' % F)"
   ]
  },
  {
   "cell_type": "markdown",
   "id": "c90e9649",
   "metadata": {},
   "source": [
    "#### input() function"
   ]
  },
  {
   "cell_type": "code",
   "execution_count": null,
   "id": "0930eb08",
   "metadata": {},
   "outputs": [],
   "source": [
    "x=input()"
   ]
  },
  {
   "cell_type": "code",
   "execution_count": null,
   "id": "809c2528",
   "metadata": {},
   "outputs": [],
   "source": [
    "x"
   ]
  },
  {
   "cell_type": "code",
   "execution_count": null,
   "id": "43cadcc3",
   "metadata": {},
   "outputs": [],
   "source": [
    "type(x)"
   ]
  },
  {
   "cell_type": "code",
   "execution_count": null,
   "id": "8c61f5cc",
   "metadata": {},
   "outputs": [],
   "source": [
    "y=int(input())"
   ]
  },
  {
   "cell_type": "code",
   "execution_count": null,
   "id": "a6a1dbeb",
   "metadata": {},
   "outputs": [],
   "source": [
    "type(y)"
   ]
  },
  {
   "cell_type": "code",
   "execution_count": null,
   "id": "4afc887f",
   "metadata": {},
   "outputs": [],
   "source": [
    "y"
   ]
  },
  {
   "cell_type": "raw",
   "id": "aadddf75",
   "metadata": {},
   "source": [
    "# using input()--> Take input as integer value 5 to x and convert it into float data type\n",
    "               --> Take input as char/string value'abc' to s\n",
    "               --> Take input as float value 3.23490 to y and print the output as 3 decimal places."
   ]
  },
  {
   "cell_type": "code",
   "execution_count": 5,
   "id": "8e2bb8aa",
   "metadata": {},
   "outputs": [
    {
     "name": "stdout",
     "output_type": "stream",
     "text": [
      "6\n"
     ]
    },
    {
     "data": {
      "text/plain": [
       "6.0"
      ]
     },
     "execution_count": 5,
     "metadata": {},
     "output_type": "execute_result"
    }
   ],
   "source": [
    "x=int(input())\n",
    "float(x)"
   ]
  },
  {
   "cell_type": "code",
   "execution_count": 6,
   "id": "26610bcc",
   "metadata": {},
   "outputs": [
    {
     "name": "stdout",
     "output_type": "stream",
     "text": [
      "abc\n"
     ]
    }
   ],
   "source": [
    "s=input()"
   ]
  },
  {
   "cell_type": "code",
   "execution_count": 7,
   "id": "1180b9d5",
   "metadata": {},
   "outputs": [
    {
     "name": "stdout",
     "output_type": "stream",
     "text": [
      "3.23490\n"
     ]
    },
    {
     "data": {
      "text/plain": [
       "3.23"
      ]
     },
     "execution_count": 7,
     "metadata": {},
     "output_type": "execute_result"
    }
   ],
   "source": [
    "y=float(input())\n",
    "round(y,2)"
   ]
  },
  {
   "cell_type": "code",
   "execution_count": 8,
   "id": "747717cf",
   "metadata": {},
   "outputs": [
    {
     "name": "stdout",
     "output_type": "stream",
     "text": [
      "6\n",
      "7\n"
     ]
    },
    {
     "data": {
      "text/plain": [
       "13"
      ]
     },
     "execution_count": 8,
     "metadata": {},
     "output_type": "execute_result"
    }
   ],
   "source": [
    "var_1= int(input())\n",
    "var_2=int(input())\n",
    "# Find the sum of var_1 and var_2\n",
    "var_1+var_2"
   ]
  },
  {
   "cell_type": "code",
   "execution_count": 9,
   "id": "d0daac0f",
   "metadata": {},
   "outputs": [
    {
     "ename": "NameError",
     "evalue": "name 'Var_1' is not defined",
     "output_type": "error",
     "traceback": [
      "\u001b[1;31m---------------------------------------------------------------------------\u001b[0m",
      "\u001b[1;31mNameError\u001b[0m                                 Traceback (most recent call last)",
      "\u001b[1;32m~\\AppData\\Local\\Temp\\ipykernel_9328\\800117814.py\u001b[0m in \u001b[0;36m<module>\u001b[1;34m\u001b[0m\n\u001b[0;32m      1\u001b[0m \u001b[1;31m#python is case sensitive\u001b[0m\u001b[1;33m\u001b[0m\u001b[1;33m\u001b[0m\u001b[0m\n\u001b[1;32m----> 2\u001b[1;33m \u001b[0mVar_1\u001b[0m\u001b[1;33m\u001b[0m\u001b[1;33m\u001b[0m\u001b[0m\n\u001b[0m",
      "\u001b[1;31mNameError\u001b[0m: name 'Var_1' is not defined"
     ]
    }
   ],
   "source": [
    "#python is case sensitive\n",
    "Var_1"
   ]
  },
  {
   "cell_type": "code",
   "execution_count": 10,
   "id": "d5711395",
   "metadata": {},
   "outputs": [
    {
     "ename": "TypeError",
     "evalue": "can only concatenate str (not \"int\") to str",
     "output_type": "error",
     "traceback": [
      "\u001b[1;31m---------------------------------------------------------------------------\u001b[0m",
      "\u001b[1;31mTypeError\u001b[0m                                 Traceback (most recent call last)",
      "\u001b[1;32m~\\AppData\\Local\\Temp\\ipykernel_9328\\507253231.py\u001b[0m in \u001b[0;36m<module>\u001b[1;34m\u001b[0m\n\u001b[0;32m      2\u001b[0m \u001b[1;31m# add 7 to Var_1\u001b[0m\u001b[1;33m\u001b[0m\u001b[1;33m\u001b[0m\u001b[0m\n\u001b[0;32m      3\u001b[0m \u001b[0mVar_1\u001b[0m\u001b[1;33m=\u001b[0m\u001b[1;34m'All'\u001b[0m\u001b[1;33m\u001b[0m\u001b[1;33m\u001b[0m\u001b[0m\n\u001b[1;32m----> 4\u001b[1;33m \u001b[0mVar_1\u001b[0m\u001b[1;33m+\u001b[0m\u001b[1;36m7\u001b[0m\u001b[1;33m\u001b[0m\u001b[1;33m\u001b[0m\u001b[0m\n\u001b[0m",
      "\u001b[1;31mTypeError\u001b[0m: can only concatenate str (not \"int\") to str"
     ]
    }
   ],
   "source": [
    "# add integer and string object\n",
    "# add 7 to Var_1\n",
    "Var_1='All'\n",
    "Var_1+7"
   ]
  },
  {
   "cell_type": "code",
   "execution_count": 11,
   "id": "15c1ee86",
   "metadata": {},
   "outputs": [
    {
     "data": {
      "text/plain": [
       "'All7'"
      ]
     },
     "execution_count": 11,
     "metadata": {},
     "output_type": "execute_result"
    }
   ],
   "source": [
    "Var_1+str(7)\n",
    "#Var_1+'7'"
   ]
  },
  {
   "cell_type": "code",
   "execution_count": 12,
   "id": "0150f933",
   "metadata": {},
   "outputs": [
    {
     "name": "stdout",
     "output_type": "stream",
     "text": [
      "4\n",
      "5\n",
      "8.9\n"
     ]
    }
   ],
   "source": [
    "### Take multiple integer /float inputs using input()\n",
    "input1=int(input())\n",
    "input2=int(input())\n",
    "input3=float(input())"
   ]
  },
  {
   "cell_type": "code",
   "execution_count": 15,
   "id": "5c9de24f",
   "metadata": {},
   "outputs": [
    {
     "name": "stdout",
     "output_type": "stream",
     "text": [
      "a,b,c\n"
     ]
    }
   ],
   "source": [
    "#Take multiple string inputs using input()\n",
    "s1,s2,s3=input().split(',')"
   ]
  },
  {
   "cell_type": "code",
   "execution_count": 16,
   "id": "b39f7977",
   "metadata": {},
   "outputs": [
    {
     "data": {
      "text/plain": [
       "'a'"
      ]
     },
     "execution_count": 16,
     "metadata": {},
     "output_type": "execute_result"
    }
   ],
   "source": [
    "s1"
   ]
  },
  {
   "cell_type": "code",
   "execution_count": 17,
   "id": "82944995",
   "metadata": {},
   "outputs": [
    {
     "name": "stdout",
     "output_type": "stream",
     "text": [
      "d e f\n"
     ]
    }
   ],
   "source": [
    "s1,s2,s3=input().split()"
   ]
  },
  {
   "cell_type": "markdown",
   "id": "773f498d",
   "metadata": {},
   "source": [
    "#### Statements and Expressions\n",
    "\n",
    "An Expression is a sequence or combination of values, variables, operators and function calls that always produces or returns a result value.\n",
    "– An Expression always evaluates (calculate) to itself."
   ]
  },
  {
   "cell_type": "markdown",
   "id": "b9a4d83c",
   "metadata": {},
   "source": [
    " z = x + y\n",
    "In the above example = and + are operators.\n",
    "\n",
    "So, x + y is an expression.\n",
    "Any Instruction that a python interpreter can execute (carry out) is called a Statement."
   ]
  },
  {
   "cell_type": "markdown",
   "id": "2514f943",
   "metadata": {},
   "source": [
    "#### Whitespace\n",
    " Indentation: 4 white spaces--> block of code"
   ]
  },
  {
   "cell_type": "markdown",
   "id": "06c19e98",
   "metadata": {},
   "source": [
    "### Operators \n",
    "\n",
    "Operators are used to perform operations on variables and values.OPERATORS: Are the special symbols. Eg- + , * , /, etc.\n",
    "\n",
    "- Arithmetic operators\n",
    "- Bitwise operators\n",
    "- Boolean operators\n",
    "- Assignment operators\n",
    "- Relational operators\n",
    "- Operators precedence"
   ]
  },
  {
   "cell_type": "markdown",
   "id": "6ff2b91a",
   "metadata": {},
   "source": [
    "#### Arithmetic operators"
   ]
  },
  {
   "cell_type": "raw",
   "id": "a4dff49a",
   "metadata": {},
   "source": [
    "Operator\tDescription\tSyntax\n",
    "+\t          Addition: adds two operands\tx + y\n",
    "–\t          Subtraction: subtracts two operands\tx – y\n",
    "*\t          Multiplication: multiplies two operands\tx * y\n",
    "/\t          Division (float): divides the first operand by the second\tx / y\n",
    "//\t          Division (floor): divides the first operand by the second\tx // y\n",
    "%\t          Modulus: returns the remainder when the first operand is divided by the second\tx % y\n",
    "**\t          Power: Returns first raised to power second\tx ** y"
   ]
  },
  {
   "cell_type": "code",
   "execution_count": 18,
   "id": "3a7bb229",
   "metadata": {},
   "outputs": [],
   "source": [
    "x=5\n",
    "y=9"
   ]
  },
  {
   "cell_type": "code",
   "execution_count": 19,
   "id": "c9e75e27",
   "metadata": {},
   "outputs": [],
   "source": [
    "add=x+y\n",
    "sub=x-y\n",
    "mul=x*y\n",
    "div1=x/y\n",
    "div2=x//y\n",
    "r=x%y\n",
    "p=x**2"
   ]
  },
  {
   "cell_type": "code",
   "execution_count": 20,
   "id": "ac3508ad",
   "metadata": {},
   "outputs": [
    {
     "name": "stdout",
     "output_type": "stream",
     "text": [
      "14\n",
      "-4\n",
      "45\n",
      "0.5555555555555556\n",
      "0\n",
      "5\n",
      "25\n"
     ]
    }
   ],
   "source": [
    "print(add);print(sub);print(mul);print(div1);print(div2);print(r);print(p)"
   ]
  },
  {
   "cell_type": "markdown",
   "id": "031d952e",
   "metadata": {},
   "source": [
    "#### Relational operators"
   ]
  },
  {
   "cell_type": "raw",
   "id": "b989b02c",
   "metadata": {},
   "source": [
    "Operator\t                             Description\t                                      Syntax\n",
    "<\t                               Less than: True if the left operand is less than the right\tx < y\n",
    "==\t                               Equal to: True if both operands are equal\t                x == y\n",
    "!=\t                               Not equal to – True if operands are not equal\t            x != y\n",
    ">=\t                               Greater than or equal to: True if left operand is            x >= y\n",
    "                                     greater than or equal to the right\t"
   ]
  },
  {
   "cell_type": "code",
   "execution_count": 21,
   "id": "a557a427",
   "metadata": {},
   "outputs": [],
   "source": [
    "a=100\n",
    "b=50"
   ]
  },
  {
   "cell_type": "code",
   "execution_count": 22,
   "id": "c9f7a088",
   "metadata": {},
   "outputs": [
    {
     "data": {
      "text/plain": [
       "False"
      ]
     },
     "execution_count": 22,
     "metadata": {},
     "output_type": "execute_result"
    }
   ],
   "source": [
    "a<b"
   ]
  },
  {
   "cell_type": "code",
   "execution_count": 23,
   "id": "5ee2b982",
   "metadata": {},
   "outputs": [
    {
     "data": {
      "text/plain": [
       "False"
      ]
     },
     "execution_count": 23,
     "metadata": {},
     "output_type": "execute_result"
    }
   ],
   "source": [
    "a==b"
   ]
  },
  {
   "cell_type": "markdown",
   "id": "45ae956d",
   "metadata": {},
   "source": [
    "#### Boolean operators\n",
    "The logical operators and, or and not are also referred to as boolean operators"
   ]
  },
  {
   "cell_type": "raw",
   "id": "09ea750c",
   "metadata": {},
   "source": [
    "Operator\t             Description\t                                              Example\n",
    "and\t             Returns True if both statements are true\t                     x < 5 and x < 10\n",
    "or\t             Returns True if one of the statements is true\t                 x < 5 or x < 4\n",
    "not\t             Reverse the result, returns False if the result is true \t     not(x < 5 and x < 10)"
   ]
  },
  {
   "cell_type": "code",
   "execution_count": 24,
   "id": "a639ae68",
   "metadata": {},
   "outputs": [
    {
     "data": {
      "text/plain": [
       "False"
      ]
     },
     "execution_count": 24,
     "metadata": {},
     "output_type": "execute_result"
    }
   ],
   "source": [
    "#and --returns true if both conditions are true\n",
    "a<5 and b>40"
   ]
  },
  {
   "cell_type": "code",
   "execution_count": 25,
   "id": "03955a15",
   "metadata": {},
   "outputs": [
    {
     "data": {
      "text/plain": [
       "True"
      ]
     },
     "execution_count": 25,
     "metadata": {},
     "output_type": "execute_result"
    }
   ],
   "source": [
    "a>50 and b>40"
   ]
  },
  {
   "cell_type": "code",
   "execution_count": 27,
   "id": "a50781f3",
   "metadata": {},
   "outputs": [
    {
     "data": {
      "text/plain": [
       "True"
      ]
     },
     "execution_count": 27,
     "metadata": {},
     "output_type": "execute_result"
    }
   ],
   "source": [
    "#or --returns true if any one of the condition is true\n",
    "a<5 or b>40"
   ]
  },
  {
   "cell_type": "code",
   "execution_count": 28,
   "id": "3e42e0c8",
   "metadata": {},
   "outputs": [
    {
     "data": {
      "text/plain": [
       "True"
      ]
     },
     "execution_count": 28,
     "metadata": {},
     "output_type": "execute_result"
    }
   ],
   "source": [
    "#not\n",
    "c=0  # false statement\n",
    "not c"
   ]
  },
  {
   "cell_type": "code",
   "execution_count": 29,
   "id": "832420c2",
   "metadata": {},
   "outputs": [
    {
     "data": {
      "text/plain": [
       "False"
      ]
     },
     "execution_count": 29,
     "metadata": {},
     "output_type": "execute_result"
    }
   ],
   "source": [
    "not a"
   ]
  },
  {
   "cell_type": "markdown",
   "id": "fc76f267",
   "metadata": {},
   "source": [
    "#### Assignment operators"
   ]
  },
  {
   "cell_type": "raw",
   "id": "0daefc0a",
   "metadata": {},
   "source": [
    "\n",
    "Python Assignment Operators\n",
    "Operator\t                     Example\t        Same As\n",
    "+=\t                              x += 3\t     x = x + 3\n",
    "-=\t                              x -= 3\t     x = x - 3\n",
    "*=\t                              x *= 3\t     x = x * 3\n",
    "/=\t                              x /= 3\t     x = x / 3"
   ]
  },
  {
   "cell_type": "code",
   "execution_count": 30,
   "id": "6e7911f7",
   "metadata": {},
   "outputs": [
    {
     "data": {
      "text/plain": [
       "94"
      ]
     },
     "execution_count": 30,
     "metadata": {},
     "output_type": "execute_result"
    }
   ],
   "source": [
    "s=89\n",
    "s+=5\n",
    "s"
   ]
  },
  {
   "cell_type": "markdown",
   "id": "49e4e113",
   "metadata": {},
   "source": [
    "#### Bitwise operators"
   ]
  },
  {
   "cell_type": "raw",
   "id": "7c735d35",
   "metadata": {},
   "source": [
    "In Python, bitwise operators are used to performing bitwise calculations on integers. The integers are first converted into binary and then operations are performed on bit by bit, hence the name bitwise operators\n",
    "\n",
    "OPERATOR\t       DESCRIPTION\tSYNTAX\n",
    "\n",
    "&\t               Bitwise AND\tx & y\n",
    "\n",
    "|\t               Bitwise OR\tx | y\n",
    "\n",
    "~\t               Bitwise NOT\t~x\n"
   ]
  },
  {
   "cell_type": "markdown",
   "id": "0642f021",
   "metadata": {},
   "source": [
    "#### Bitwise and (&)\n",
    "- Returns 1 if both the bits are 1 else 0\n",
    "#### Bitwise or (|)\n",
    "- Returns 1 either of the bit is 1 else 0\n",
    "#### Bitwise not (~)\n",
    "- Returns one's complement--> 2's complement--> decimal"
   ]
  },
  {
   "cell_type": "code",
   "execution_count": 31,
   "id": "46f4fe4b",
   "metadata": {},
   "outputs": [],
   "source": [
    "a=4\n",
    "b=6"
   ]
  },
  {
   "cell_type": "code",
   "execution_count": 32,
   "id": "f7640d93",
   "metadata": {},
   "outputs": [
    {
     "data": {
      "text/plain": [
       "4"
      ]
     },
     "execution_count": 32,
     "metadata": {},
     "output_type": "execute_result"
    }
   ],
   "source": [
    "a & b"
   ]
  },
  {
   "cell_type": "code",
   "execution_count": 33,
   "id": "1860c4c2",
   "metadata": {},
   "outputs": [
    {
     "data": {
      "text/plain": [
       "6"
      ]
     },
     "execution_count": 33,
     "metadata": {},
     "output_type": "execute_result"
    }
   ],
   "source": [
    "a | b"
   ]
  },
  {
   "cell_type": "code",
   "execution_count": 34,
   "id": "6ba8b941",
   "metadata": {},
   "outputs": [
    {
     "data": {
      "text/plain": [
       "-5"
      ]
     },
     "execution_count": 34,
     "metadata": {},
     "output_type": "execute_result"
    }
   ],
   "source": [
    "~ a"
   ]
  },
  {
   "cell_type": "raw",
   "id": "b0dfa341",
   "metadata": {},
   "source": [
    "PRECEDENCE:\n",
    "\n",
    "P – Parentheses\n",
    "E – Exponentiation\n",
    "M – Multiplication     (Multiplication and division have the same precedence)\n",
    "D – Division\n",
    "A – Addition     (Addition and subtraction have the same precedence)\n",
    "S – Subtraction"
   ]
  },
  {
   "cell_type": "code",
   "execution_count": 35,
   "id": "9184e5bf",
   "metadata": {},
   "outputs": [
    {
     "data": {
      "text/plain": [
       "82"
      ]
     },
     "execution_count": 35,
     "metadata": {},
     "output_type": "execute_result"
    }
   ],
   "source": [
    "5+7*(3+8)\n",
    "# 5+7*11\n",
    "#5+77\n",
    "#82"
   ]
  },
  {
   "cell_type": "markdown",
   "id": "afde0263",
   "metadata": {},
   "source": [
    "##### 1.Swapping two numbers\n",
    "X=67\n",
    "Y=89"
   ]
  },
  {
   "cell_type": "markdown",
   "id": "7b24dcad",
   "metadata": {},
   "source": [
    "#### 2. Find the area and circumferene of a circle for a given radius.\n",
    "Take input as radius"
   ]
  },
  {
   "cell_type": "markdown",
   "id": "47a32f43",
   "metadata": {},
   "source": [
    "##### 3. Write a program to get a name and give welcome message using input()"
   ]
  },
  {
   "cell_type": "markdown",
   "id": "813f0958",
   "metadata": {},
   "source": [
    "###### 4. Write a program to get the n to the power 5. Take input as positive value."
   ]
  },
  {
   "cell_type": "markdown",
   "id": "2fbf3b13",
   "metadata": {},
   "source": [
    "##### 5. Accept age as input and returns the ouput as next year age."
   ]
  },
  {
   "cell_type": "markdown",
   "id": "baeac688",
   "metadata": {},
   "source": [
    "##### Solution"
   ]
  },
  {
   "cell_type": "code",
   "execution_count": 36,
   "id": "fc921cae",
   "metadata": {},
   "outputs": [
    {
     "name": "stdout",
     "output_type": "stream",
     "text": [
      "89 67\n"
     ]
    }
   ],
   "source": [
    "#1.\n",
    "X=67\n",
    "Y=89\n",
    "X,Y=Y,X\n",
    "print(X,Y)"
   ]
  },
  {
   "cell_type": "code",
   "execution_count": 37,
   "id": "3a283c4a",
   "metadata": {},
   "outputs": [
    {
     "name": "stdout",
     "output_type": "stream",
     "text": [
      "4\n",
      "50.24\n",
      "25.12\n"
     ]
    }
   ],
   "source": [
    "#2. \n",
    "pi=3.14\n",
    "r=int(input())\n",
    "area=pi*r*r\n",
    "circumference=2*pi*r\n",
    "print(area)\n",
    "print(circumference)"
   ]
  },
  {
   "cell_type": "code",
   "execution_count": 38,
   "id": "41d6b76f",
   "metadata": {},
   "outputs": [
    {
     "name": "stdout",
     "output_type": "stream",
     "text": [
      "ravi\n",
      "Hello ravi\n"
     ]
    }
   ],
   "source": [
    "#3. \n",
    "name=input()\n",
    "print(\"Hello\",name)"
   ]
  },
  {
   "cell_type": "code",
   "execution_count": 39,
   "id": "69f25030",
   "metadata": {},
   "outputs": [
    {
     "name": "stdout",
     "output_type": "stream",
     "text": [
      "2\n"
     ]
    },
    {
     "data": {
      "text/plain": [
       "32"
      ]
     },
     "execution_count": 39,
     "metadata": {},
     "output_type": "execute_result"
    }
   ],
   "source": [
    "#4.\n",
    "n=int(input())\n",
    "n**5"
   ]
  },
  {
   "cell_type": "code",
   "execution_count": 40,
   "id": "3609b023",
   "metadata": {},
   "outputs": [
    {
     "name": "stdout",
     "output_type": "stream",
     "text": [
      "34\n",
      "Next year age is 35\n"
     ]
    }
   ],
   "source": [
    "#5.\n",
    "age= int(input())\n",
    "new_age=age+1\n",
    "print(\"Next year age is\",new_age)"
   ]
  },
  {
   "cell_type": "code",
   "execution_count": 41,
   "id": "05cd27bd",
   "metadata": {},
   "outputs": [
    {
     "name": "stdout",
     "output_type": "stream",
     "text": [
      "Welcome\n",
      "to all\n"
     ]
    }
   ],
   "source": [
    "print('Welcome')\n",
    "print('to all')"
   ]
  },
  {
   "cell_type": "code",
   "execution_count": 43,
   "id": "7501d84d",
   "metadata": {},
   "outputs": [
    {
     "name": "stdout",
     "output_type": "stream",
     "text": [
      "welcome to all\n"
     ]
    }
   ],
   "source": [
    "# output should be in the form of 'Welcome to all'\n",
    "print('welcome',end=' ')\n",
    "print('to all')"
   ]
  },
  {
   "cell_type": "code",
   "execution_count": 44,
   "id": "4106b320",
   "metadata": {},
   "outputs": [
    {
     "name": "stdout",
     "output_type": "stream",
     "text": [
      "Ben--25--California\n"
     ]
    }
   ],
   "source": [
    "print('Ben', 25, 'California',sep='--')"
   ]
  },
  {
   "cell_type": "code",
   "execution_count": 45,
   "id": "c57dabe4",
   "metadata": {},
   "outputs": [
    {
     "ename": "SyntaxError",
     "evalue": "positional argument follows keyword argument (3904228627.py, line 1)",
     "output_type": "error",
     "traceback": [
      "\u001b[1;36m  File \u001b[1;32m\"C:\\Users\\nithyalakshmim\\AppData\\Local\\Temp\\ipykernel_9328\\3904228627.py\"\u001b[1;36m, line \u001b[1;32m1\u001b[0m\n\u001b[1;33m    print(sep='--','Ben', 25, 'California')\u001b[0m\n\u001b[1;37m                                          ^\u001b[0m\n\u001b[1;31mSyntaxError\u001b[0m\u001b[1;31m:\u001b[0m positional argument follows keyword argument\n"
     ]
    }
   ],
   "source": [
    "print(sep='--','Ben', 25, 'California')"
   ]
  },
  {
   "cell_type": "code",
   "execution_count": 46,
   "id": "3cf90430",
   "metadata": {},
   "outputs": [
    {
     "data": {
      "text/plain": [
       "range(0, 4)"
      ]
     },
     "execution_count": 46,
     "metadata": {},
     "output_type": "execute_result"
    }
   ],
   "source": [
    "# range() function\n",
    "range(4)  # values from 0 to 3 (0 to n-1)"
   ]
  },
  {
   "cell_type": "markdown",
   "id": "a577b704",
   "metadata": {},
   "source": [
    "**What happens when you multiply an integer or float by True? What happens when you multiply them by False?**\n",
    "- How does the answer change if the numbers are positive or negative?\n",
    "- What happens when you multiply a string by True? By False?\n",
    "\n",
    "**Your goal is to determine what happens when you multiply a boolean by any of these data types. Specifically**"
   ]
  },
  {
   "cell_type": "markdown",
   "id": "e66158f9",
   "metadata": {},
   "source": [
    "**Write a Python program to calculatethe length of a string**"
   ]
  },
  {
   "cell_type": "markdown",
   "id": "6610457b",
   "metadata": {},
   "source": [
    "#### Solution"
   ]
  },
  {
   "cell_type": "code",
   "execution_count": 13,
   "id": "d6d5c874",
   "metadata": {},
   "outputs": [
    {
     "name": "stdout",
     "output_type": "stream",
     "text": [
      "3\n",
      "-3.1\n",
      "0\n",
      "abc\n",
      "\n"
     ]
    }
   ],
   "source": [
    "print(3*True)\n",
    "print(-3.1*True)\n",
    "print(4*False)\n",
    "print('abc'*True)\n",
    "print('abc'*False)"
   ]
  },
  {
   "cell_type": "code",
   "execution_count": 14,
   "id": "85a25575",
   "metadata": {},
   "outputs": [
    {
     "data": {
      "text/plain": [
       "14"
      ]
     },
     "execution_count": 14,
     "metadata": {},
     "output_type": "execute_result"
    }
   ],
   "source": [
    "str_1=\"Welcome to all\"\n",
    "len(str_1)"
   ]
  },
  {
   "cell_type": "markdown",
   "id": "da1a62c9",
   "metadata": {},
   "source": [
    "#### Strings"
   ]
  },
  {
   "cell_type": "code",
   "execution_count": 18,
   "id": "79425f56",
   "metadata": {},
   "outputs": [],
   "source": [
    "S=\"saturday\""
   ]
  },
  {
   "cell_type": "code",
   "execution_count": 16,
   "id": "d96f9f20",
   "metadata": {},
   "outputs": [
    {
     "name": "stdout",
     "output_type": "stream",
     "text": [
      "['__add__', '__class__', '__contains__', '__delattr__', '__dir__', '__doc__', '__eq__', '__format__', '__ge__', '__getattribute__', '__getitem__', '__getnewargs__', '__gt__', '__hash__', '__init__', '__init_subclass__', '__iter__', '__le__', '__len__', '__lt__', '__mod__', '__mul__', '__ne__', '__new__', '__reduce__', '__reduce_ex__', '__repr__', '__rmod__', '__rmul__', '__setattr__', '__sizeof__', '__str__', '__subclasshook__', 'capitalize', 'casefold', 'center', 'count', 'encode', 'endswith', 'expandtabs', 'find', 'format', 'format_map', 'index', 'isalnum', 'isalpha', 'isascii', 'isdecimal', 'isdigit', 'isidentifier', 'islower', 'isnumeric', 'isprintable', 'isspace', 'istitle', 'isupper', 'join', 'ljust', 'lower', 'lstrip', 'maketrans', 'partition', 'removeprefix', 'removesuffix', 'replace', 'rfind', 'rindex', 'rjust', 'rpartition', 'rsplit', 'rstrip', 'split', 'splitlines', 'startswith', 'strip', 'swapcase', 'title', 'translate', 'upper', 'zfill']\n"
     ]
    }
   ],
   "source": [
    "print(dir(S))"
   ]
  },
  {
   "cell_type": "code",
   "execution_count": 19,
   "id": "147d0c0d",
   "metadata": {},
   "outputs": [
    {
     "data": {
      "text/plain": [
       "'Saturday'"
      ]
     },
     "execution_count": 19,
     "metadata": {},
     "output_type": "execute_result"
    }
   ],
   "source": [
    "S.capitalize()"
   ]
  },
  {
   "cell_type": "code",
   "execution_count": 21,
   "id": "139af89f",
   "metadata": {},
   "outputs": [
    {
     "data": {
      "text/plain": [
       "'SATURDAY'"
      ]
     },
     "execution_count": 21,
     "metadata": {},
     "output_type": "execute_result"
    }
   ],
   "source": [
    "S.upper()"
   ]
  },
  {
   "cell_type": "code",
   "execution_count": 22,
   "id": "5a0999a0",
   "metadata": {},
   "outputs": [
    {
     "data": {
      "text/plain": [
       "2"
      ]
     },
     "execution_count": 22,
     "metadata": {},
     "output_type": "execute_result"
    }
   ],
   "source": [
    "S.count('a')"
   ]
  },
  {
   "cell_type": "code",
   "execution_count": 23,
   "id": "18ef4fc8",
   "metadata": {},
   "outputs": [],
   "source": [
    "## Compare 2 string objects\n",
    "str_1='Welcome to our Program'\n",
    "str_2='Hello World'\n",
    "str_3='Welcome to our Program'"
   ]
  },
  {
   "cell_type": "code",
   "execution_count": null,
   "id": "f0eb20f7",
   "metadata": {},
   "outputs": [],
   "source": [
    "### use == operator to compare 2 string objects"
   ]
  },
  {
   "cell_type": "code",
   "execution_count": 24,
   "id": "e7907653",
   "metadata": {},
   "outputs": [
    {
     "data": {
      "text/plain": [
       "False"
      ]
     },
     "execution_count": 24,
     "metadata": {},
     "output_type": "execute_result"
    }
   ],
   "source": [
    "str_1==str_2"
   ]
  },
  {
   "cell_type": "code",
   "execution_count": 25,
   "id": "5f45ca5c",
   "metadata": {},
   "outputs": [
    {
     "data": {
      "text/plain": [
       "True"
      ]
     },
     "execution_count": 25,
     "metadata": {},
     "output_type": "execute_result"
    }
   ],
   "source": [
    "str_1==str_3"
   ]
  },
  {
   "cell_type": "code",
   "execution_count": null,
   "id": "fc591ac2",
   "metadata": {},
   "outputs": [],
   "source": [
    "### join two string objects \n",
    "## use  + operator to join two string objects"
   ]
  },
  {
   "cell_type": "code",
   "execution_count": 26,
   "id": "7052b629",
   "metadata": {},
   "outputs": [],
   "source": [
    "str1=\"hello\"\n",
    "str2=\"welcome to our program\""
   ]
  },
  {
   "cell_type": "code",
   "execution_count": 29,
   "id": "7218d7c8",
   "metadata": {},
   "outputs": [
    {
     "data": {
      "text/plain": [
       "'hello welcome to our program'"
      ]
     },
     "execution_count": 29,
     "metadata": {},
     "output_type": "execute_result"
    }
   ],
   "source": [
    "str1+' '+str2"
   ]
  },
  {
   "cell_type": "code",
   "execution_count": 30,
   "id": "e48a5d72",
   "metadata": {},
   "outputs": [
    {
     "data": {
      "text/plain": [
       "'all programsall programsall programs'"
      ]
     },
     "execution_count": 30,
     "metadata": {},
     "output_type": "execute_result"
    }
   ],
   "source": [
    "## use * operator to repeat the values in the string object\n",
    "str_3='all programs'\n",
    "str_3*3"
   ]
  },
  {
   "cell_type": "code",
   "execution_count": 31,
   "id": "3db129db",
   "metadata": {},
   "outputs": [
    {
     "data": {
      "text/plain": [
       "True"
      ]
     },
     "execution_count": 31,
     "metadata": {},
     "output_type": "execute_result"
    }
   ],
   "source": [
    "### membership operators--> in, not in\n",
    "## To check whether a substring exists within a string or not\n",
    "## check 'a' exists in str_3 or not\n",
    "'a' in str_3"
   ]
  },
  {
   "cell_type": "markdown",
   "id": "afd818dd",
   "metadata": {},
   "source": [
    "#### String methods"
   ]
  },
  {
   "cell_type": "raw",
   "id": "c23f8c81",
   "metadata": {},
   "source": [
    "Methods\tDescription\n",
    "    upper()\t                 converts the string to uppercase\n",
    "    lower()\t                 converts the string to lowercase\n",
    "    replace()\t             replaces substring inside\n",
    "    find()\t                 returns the index of first occurrence of substring\n",
    "    rstrip()\t             removes trailing characters\n",
    "    split()\t                 splits string from left\n",
    "    startswith()\t         checks if string starts with the specified string\n",
    "    isnumeric()\t             checks numeric characters\n",
    "    index()\t                 returns index of substring"
   ]
  },
  {
   "cell_type": "code",
   "execution_count": 33,
   "id": "a344415a",
   "metadata": {},
   "outputs": [],
   "source": [
    "new_string=\"This program has many more lines 89034 and write a new program of 123 lines to get new results\"\n",
    "## Count the word 'program' appeared in the given string object"
   ]
  },
  {
   "cell_type": "code",
   "execution_count": 34,
   "id": "f58df527",
   "metadata": {},
   "outputs": [
    {
     "data": {
      "text/plain": [
       "2"
      ]
     },
     "execution_count": 34,
     "metadata": {},
     "output_type": "execute_result"
    }
   ],
   "source": [
    "new_string.count(\"program\")"
   ]
  },
  {
   "cell_type": "markdown",
   "id": "e4943d3a",
   "metadata": {},
   "source": [
    "- Strings are iterables\n",
    "- Strings are immutables"
   ]
  },
  {
   "cell_type": "markdown",
   "id": "47e97330",
   "metadata": {},
   "source": [
    "#### indexing and Slicing"
   ]
  },
  {
   "cell_type": "code",
   "execution_count": 36,
   "id": "06ef9387",
   "metadata": {},
   "outputs": [],
   "source": [
    "S1=\"Welcome to our Country.\""
   ]
  },
  {
   "cell_type": "code",
   "execution_count": 37,
   "id": "11627155",
   "metadata": {},
   "outputs": [
    {
     "data": {
      "text/plain": [
       "'m'"
      ]
     },
     "execution_count": 37,
     "metadata": {},
     "output_type": "execute_result"
    }
   ],
   "source": [
    "# extract 'm' from S1   _-> objectname[index]\n",
    "S1[5]"
   ]
  },
  {
   "cell_type": "code",
   "execution_count": 38,
   "id": "7e760b2c",
   "metadata": {},
   "outputs": [
    {
     "data": {
      "text/plain": [
       "'l'"
      ]
     },
     "execution_count": 38,
     "metadata": {},
     "output_type": "execute_result"
    }
   ],
   "source": [
    "#extract 'l' from S1\n",
    "S1[2]"
   ]
  },
  {
   "cell_type": "code",
   "execution_count": 40,
   "id": "4065166e",
   "metadata": {},
   "outputs": [
    {
     "data": {
      "text/plain": [
       "'Welcome to our C'"
      ]
     },
     "execution_count": 40,
     "metadata": {},
     "output_type": "execute_result"
    }
   ],
   "source": [
    "#slicing\n",
    "#extract 'W'to 'C'\n",
    "# objectname[start:end:step] (end is exclusive)\n",
    "S1[0:16]"
   ]
  },
  {
   "cell_type": "code",
   "execution_count": 41,
   "id": "5442d8e5",
   "metadata": {},
   "outputs": [
    {
     "data": {
      "text/plain": [
       "'Wloet u '"
      ]
     },
     "execution_count": 41,
     "metadata": {},
     "output_type": "execute_result"
    }
   ],
   "source": [
    "S1[:16:2]"
   ]
  },
  {
   "cell_type": "code",
   "execution_count": 42,
   "id": "02eafd40",
   "metadata": {},
   "outputs": [
    {
     "data": {
      "text/plain": [
       "'Welcome to our Country.'"
      ]
     },
     "execution_count": 42,
     "metadata": {},
     "output_type": "execute_result"
    }
   ],
   "source": [
    "S1[:]"
   ]
  },
  {
   "cell_type": "code",
   "execution_count": null,
   "id": "2797ef20",
   "metadata": {},
   "outputs": [],
   "source": [
    "# immutable\n",
    "# Change 'W' into 'S'"
   ]
  },
  {
   "cell_type": "code",
   "execution_count": 43,
   "id": "ebf0eb1f",
   "metadata": {
    "collapsed": true
   },
   "outputs": [
    {
     "ename": "TypeError",
     "evalue": "'str' object does not support item assignment",
     "output_type": "error",
     "traceback": [
      "\u001b[1;31m---------------------------------------------------------------------------\u001b[0m",
      "\u001b[1;31mTypeError\u001b[0m                                 Traceback (most recent call last)",
      "\u001b[1;32m~\\AppData\\Local\\Temp\\ipykernel_15248\\4101165221.py\u001b[0m in \u001b[0;36m<module>\u001b[1;34m\u001b[0m\n\u001b[1;32m----> 1\u001b[1;33m \u001b[0mS1\u001b[0m\u001b[1;33m[\u001b[0m\u001b[1;36m0\u001b[0m\u001b[1;33m]\u001b[0m\u001b[1;33m=\u001b[0m\u001b[1;34m'S'\u001b[0m\u001b[1;33m\u001b[0m\u001b[1;33m\u001b[0m\u001b[0m\n\u001b[0m",
      "\u001b[1;31mTypeError\u001b[0m: 'str' object does not support item assignment"
     ]
    }
   ],
   "source": [
    "S1[0]='S'"
   ]
  },
  {
   "cell_type": "code",
   "execution_count": 44,
   "id": "007959c8",
   "metadata": {},
   "outputs": [
    {
     "data": {
      "text/plain": [
       "'Selcome to our Country.'"
      ]
     },
     "execution_count": 44,
     "metadata": {},
     "output_type": "execute_result"
    }
   ],
   "source": [
    "'S'+S1[1:]"
   ]
  },
  {
   "cell_type": "code",
   "execution_count": 45,
   "id": "85106bc7",
   "metadata": {},
   "outputs": [
    {
     "data": {
      "text/plain": [
       "'Wel7come to our Country.'"
      ]
     },
     "execution_count": 45,
     "metadata": {},
     "output_type": "execute_result"
    }
   ],
   "source": [
    "# add '7' into S1 in the 3rd index.\n",
    "#expected output: 'Wel7come to our Country.''\n",
    "S1[:3]+'7'+S1[3:]"
   ]
  },
  {
   "cell_type": "code",
   "execution_count": 47,
   "id": "14f71541",
   "metadata": {},
   "outputs": [
    {
     "data": {
      "text/plain": [
       "'We7come to our Country.'"
      ]
     },
     "execution_count": 47,
     "metadata": {},
     "output_type": "execute_result"
    }
   ],
   "source": [
    "# change 'l' into '7'\n",
    "S1[:2]+'7'+S1[3:]"
   ]
  },
  {
   "cell_type": "markdown",
   "id": "bf2107af",
   "metadata": {},
   "source": [
    "### Conditional Statements \n",
    "\n",
    "                - if, if else, elif,nested if"
   ]
  },
  {
   "cell_type": "markdown",
   "id": "ee2e37fb",
   "metadata": {},
   "source": [
    "### Conditional Statements\n",
    "\n",
    "#1) if statements\n",
    "\n",
    "#2) if-else statements\n",
    "\n",
    "#3) elif statements\n",
    "\n",
    "#4) Nested if-else statements"
   ]
  },
  {
   "cell_type": "markdown",
   "id": "77259113",
   "metadata": {},
   "source": [
    "**Python if statement is one of the most commonly used conditional statements in programming languages. It decides whether certain statements need to be executed or not. It checks for a given condition, if the condition is true, then the set of code present inside the ” if ” block will be executed otherwise not.**\n",
    "\n",
    "#syntax: if condition:\n",
    "             \n",
    "             ## statements\n",
    "            "
   ]
  },
  {
   "cell_type": "code",
   "execution_count": 48,
   "id": "5f13361c",
   "metadata": {},
   "outputs": [
    {
     "name": "stdout",
     "output_type": "stream",
     "text": [
      "3\n",
      "Given number 3 is less than 15\n"
     ]
    }
   ],
   "source": [
    "# check the given number is less than 15\n",
    "n=int(input())\n",
    "if n<15:\n",
    "    print(\"Given number\",n,\"is less than 15\")"
   ]
  },
  {
   "cell_type": "code",
   "execution_count": 49,
   "id": "b74539b1",
   "metadata": {},
   "outputs": [
    {
     "name": "stdout",
     "output_type": "stream",
     "text": [
      "56\n"
     ]
    }
   ],
   "source": [
    "n=int(input())\n",
    "if n<15:\n",
    "    print(\"Given number\",n,\"is less than 15\")"
   ]
  },
  {
   "cell_type": "markdown",
   "id": "4a62764d",
   "metadata": {},
   "source": [
    "##### if-else statement \n",
    "\n",
    "evaluates the Boolean expression. If the condition is TRUE then, the code present in the “ if “ block will be executed otherwise the code of the “else“ block will be executed"
   ]
  },
  {
   "cell_type": "raw",
   "id": "d73ba8d4",
   "metadata": {},
   "source": [
    "Syntax:\n",
    "\n",
    "If (EXPRESSION == TRUE):\n",
    "\n",
    "        Statement (Body of the block)\n",
    "        \n",
    "else:\n",
    "\n",
    "        Statement (Body of the block)"
   ]
  },
  {
   "cell_type": "code",
   "execution_count": 50,
   "id": "71ea745a",
   "metadata": {},
   "outputs": [
    {
     "name": "stdout",
     "output_type": "stream",
     "text": [
      "9\n",
      "Given number 9 is positive\n",
      "Exit\n"
     ]
    }
   ],
   "source": [
    "# write a program to check whether a given number is positive or negative\n",
    "num=int(input())\n",
    "if num>0:\n",
    "    print(\"Given number\",num,\"is positive\")\n",
    "else:\n",
    "    print(\"Given number\",num,\"is negative\")\n",
    "print(\"Exit\")"
   ]
  },
  {
   "cell_type": "code",
   "execution_count": 51,
   "id": "97a9bb4f",
   "metadata": {},
   "outputs": [
    {
     "name": "stdout",
     "output_type": "stream",
     "text": [
      "-7\n",
      "Given number -7 is negative\n",
      "Exit\n"
     ]
    }
   ],
   "source": [
    "num=int(input())\n",
    "if num>0:\n",
    "    print(\"Given number\",num,\"is positive\")\n",
    "else:\n",
    "    print(\"Given number\",num,\"is negative\")\n",
    "print(\"Exit\")"
   ]
  },
  {
   "cell_type": "code",
   "execution_count": 52,
   "id": "3e6f4071",
   "metadata": {},
   "outputs": [
    {
     "name": "stdout",
     "output_type": "stream",
     "text": [
      "0\n",
      "Given number 0 is negative\n"
     ]
    }
   ],
   "source": [
    "num=int(input())\n",
    "if num>0:\n",
    "    print(\"Given number\",num,\"is positive\")\n",
    "else:\n",
    "    print(\"Given number\",num,\"is negative\")\n"
   ]
  },
  {
   "cell_type": "markdown",
   "id": "a3ec8aa7",
   "metadata": {},
   "source": [
    "#### elif statements\n",
    "\n",
    "“elif” statement is used to check multiple conditions only if the given condition is false. It’s similar to an “if-else” statement and the only difference is that in “else” we will not check the condition but in “elif” we will check the condition."
   ]
  },
  {
   "cell_type": "raw",
   "id": "098b9342",
   "metadata": {},
   "source": [
    "Syntax:\n",
    "\n",
    "if (condition):\n",
    "\n",
    "        #Set of statement to execute if condition is true\n",
    "elif (condition):\n",
    "\n",
    "        #Set of statements to be executed when if condition is false and elif condition is true\n",
    "else:\n",
    "\n",
    "   #Set of statement to be executed when both if and elif conditions are false"
   ]
  },
  {
   "cell_type": "code",
   "execution_count": 55,
   "id": "b354fb03",
   "metadata": {},
   "outputs": [
    {
     "name": "stdout",
     "output_type": "stream",
     "text": [
      "-7\n",
      "Given number is negative\n"
     ]
    }
   ],
   "source": [
    "## Write a program to check whether a given number is positive or negative or zero.\n",
    "n=int(input())\n",
    "if n==0:\n",
    "    print(\"Given number is zero\")\n",
    "elif n>0:\n",
    "    print(\"Given number is positive\")\n",
    "else:\n",
    "    print(\"Given number is negative\")\n"
   ]
  },
  {
   "cell_type": "code",
   "execution_count": null,
   "id": "274e485b",
   "metadata": {},
   "outputs": [],
   "source": []
  },
  {
   "cell_type": "markdown",
   "id": "74d561ac",
   "metadata": {},
   "source": [
    "#### Nested if-else statements\n",
    "Nested “if-else” statements mean that an “if” statement or “if-else” statement is present inside another if or if-else block"
   ]
  },
  {
   "cell_type": "raw",
   "id": "d8d6ca08",
   "metadata": {},
   "source": [
    "if(condition):\n",
    "\n",
    "           #Statements to execute if condition is true\n",
    "           if(condition):\n",
    "           \n",
    "                    #Statements to execute if condition is true\n",
    "           #end of nested if\n",
    "           \n",
    "#end of if"
   ]
  },
  {
   "cell_type": "code",
   "execution_count": null,
   "id": "32b9726d",
   "metadata": {},
   "outputs": [],
   "source": [
    "### Write a program to check whether a given number is positive or negative or zero"
   ]
  },
  {
   "cell_type": "code",
   "execution_count": 56,
   "id": "5d13bb4d",
   "metadata": {},
   "outputs": [
    {
     "name": "stdout",
     "output_type": "stream",
     "text": [
      "0\n",
      "Given number is zero\n"
     ]
    }
   ],
   "source": [
    "x=int(input())\n",
    "if x>=0:\n",
    "    if x==0:\n",
    "        print(\"Given number is zero\")\n",
    "    else:\n",
    "        print(\"Given number is positive\")\n",
    "else:\n",
    "    print(\"Given number is negative\")"
   ]
  },
  {
   "cell_type": "markdown",
   "id": "656ab765",
   "metadata": {},
   "source": [
    "#### Hands -on"
   ]
  },
  {
   "cell_type": "code",
   "execution_count": null,
   "id": "d17ece03",
   "metadata": {},
   "outputs": [],
   "source": [
    "### Write a program to check whether a given number is even or odd"
   ]
  },
  {
   "cell_type": "code",
   "execution_count": null,
   "id": "5c43ed09",
   "metadata": {},
   "outputs": [],
   "source": [
    "# Write a program to check whether a person is eligible for voting or not. (accept age from user)"
   ]
  },
  {
   "cell_type": "code",
   "execution_count": null,
   "id": "9b340f9b",
   "metadata": {},
   "outputs": [],
   "source": [
    "#Write a program to check whether a number is divisible by 7 or not."
   ]
  },
  {
   "cell_type": "code",
   "execution_count": null,
   "id": "6a69aa3e",
   "metadata": {},
   "outputs": [],
   "source": [
    "## check whether the given number is of one digited or two digited or three digited or \n",
    "#more than three digited."
   ]
  },
  {
   "cell_type": "code",
   "execution_count": null,
   "id": "3a715431",
   "metadata": {},
   "outputs": [],
   "source": [
    "#Find maximum number out of given three numbers"
   ]
  },
  {
   "cell_type": "markdown",
   "id": "6ddc762f",
   "metadata": {},
   "source": [
    "#### Solution"
   ]
  },
  {
   "cell_type": "code",
   "execution_count": 57,
   "id": "3eaa9eb1",
   "metadata": {},
   "outputs": [
    {
     "name": "stdout",
     "output_type": "stream",
     "text": [
      "8\n",
      "even\n"
     ]
    }
   ],
   "source": [
    "a=int(input())\n",
    "if a%2==0:\n",
    "    print('even')\n",
    "else:\n",
    "    print('odd')"
   ]
  },
  {
   "cell_type": "code",
   "execution_count": 58,
   "id": "6b3bc77d",
   "metadata": {},
   "outputs": [
    {
     "name": "stdout",
     "output_type": "stream",
     "text": [
      "24\n",
      "eligible\n"
     ]
    }
   ],
   "source": [
    "age=int(input())\n",
    "if age>=18:\n",
    "    print(\"eligible\")\n",
    "else:\n",
    "    print(\"not eligible\")"
   ]
  },
  {
   "cell_type": "code",
   "execution_count": 59,
   "id": "df344dfe",
   "metadata": {},
   "outputs": [
    {
     "name": "stdout",
     "output_type": "stream",
     "text": [
      "49\n",
      "49 is divisible by 7\n"
     ]
    }
   ],
   "source": [
    "#Write a program to check whether a number is divisible by 7 or not.\n",
    "n=int(input())\n",
    "if n%7==0:\n",
    "    print(n,'is divisible by 7')\n",
    "else:\n",
    "    print(n,'is not divisible by 7')"
   ]
  },
  {
   "cell_type": "code",
   "execution_count": null,
   "id": "42c47b89",
   "metadata": {},
   "outputs": [],
   "source": [
    "n=int(input())\n",
    "if n>0 and n<10:\n",
    "    print ('one digit')\n",
    "elif n>=10 and n<100:\n",
    "    print('two digit')\n",
    "elif n>=100 and n<1000:\n",
    "    print('three digit')\n",
    "else:\n",
    "    print('more than three digited')"
   ]
  },
  {
   "cell_type": "code",
   "execution_count": null,
   "id": "c6a1176c",
   "metadata": {},
   "outputs": [],
   "source": [
    "#method 2\n",
    "num=input()\n",
    "length=len(num)\n",
    "if length==1:\n",
    "    print('one digit')\n",
    "elif length==2:\n",
    "    print ('two digit')\n",
    "elif length ==3:\n",
    "    print('three digit')\n",
    "else:\n",
    "    print(\"more than three digited\")\n"
   ]
  },
  {
   "cell_type": "code",
   "execution_count": 60,
   "id": "7c7bce42",
   "metadata": {},
   "outputs": [
    {
     "name": "stdout",
     "output_type": "stream",
     "text": [
      "45\n",
      "45\n",
      "21\n",
      "45 is maximum\n"
     ]
    }
   ],
   "source": [
    "n1,n2,n3=int(input()),int(input()),int(input())\n",
    "if (n1>=n2) and (n1>=n3):\n",
    "    print(n1,'is maximum')\n",
    "elif (n2>=n1) and (n2>=n3):\n",
    "    print(n2,'is maximum')\n",
    "else:\n",
    "    print(n3,'is maximum')"
   ]
  },
  {
   "cell_type": "markdown",
   "id": "aa09f2cc",
   "metadata": {},
   "source": [
    "#### Loops\n",
    "  - For loop"
   ]
  },
  {
   "cell_type": "markdown",
   "id": "657c21e6",
   "metadata": {},
   "source": [
    "The for loop in Python is used to iterate over a sequence (list, tuple, string) or other iterable objects. Iterating over a sequence is called traversal.\n",
    "Loop continues until we reach the last item in the sequence. The body of for loop is separated from the rest of the code using indentation"
   ]
  },
  {
   "cell_type": "markdown",
   "id": "663073a1",
   "metadata": {},
   "source": [
    "For loop\n",
    "#syntax: for i in iterbale:\n",
    "             #statements"
   ]
  },
  {
   "cell_type": "code",
   "execution_count": 61,
   "id": "e92eced6",
   "metadata": {
    "collapsed": true
   },
   "outputs": [
    {
     "name": "stdout",
     "output_type": "stream",
     "text": [
      "n\n",
      "e\n",
      "w\n",
      " \n",
      "w\n",
      "o\n",
      "r\n",
      "l\n",
      "d\n"
     ]
    }
   ],
   "source": [
    "s='new world'\n",
    "for i in s:\n",
    "    print(i)"
   ]
  },
  {
   "cell_type": "code",
   "execution_count": 62,
   "id": "ed504061",
   "metadata": {},
   "outputs": [
    {
     "name": "stdout",
     "output_type": "stream",
     "text": [
      "hello\n",
      "hello\n",
      "hello\n"
     ]
    }
   ],
   "source": [
    "# print 'hello' 3 times\n",
    "for x in range(3):   # range(n)--> 0 to n-1\n",
    "    print('hello')"
   ]
  },
  {
   "cell_type": "markdown",
   "id": "f9fe8ad5",
   "metadata": {},
   "source": [
    "#### While loop\n",
    "\n",
    "The while loop in Python is used to iterate over a block of code as long as the test expression (condition) is true.\n",
    "\n",
    "##### syntax: while expression:\n",
    "\n",
    "             #statements"
   ]
  },
  {
   "cell_type": "code",
   "execution_count": 65,
   "id": "b0b88d6b",
   "metadata": {},
   "outputs": [
    {
     "name": "stdout",
     "output_type": "stream",
     "text": [
      "hello\n",
      "hello\n",
      "hello\n"
     ]
    }
   ],
   "source": [
    "# print 'hello' 3 times\n",
    "c=0\n",
    "while c<3:\n",
    "    print('hello')\n",
    "    c=c+1  #c+=1"
   ]
  },
  {
   "cell_type": "code",
   "execution_count": null,
   "id": "54e85dc2",
   "metadata": {},
   "outputs": [],
   "source": [
    "# write a program to find the sum of n natural numbers\n",
    "#1+2+3+....+n"
   ]
  },
  {
   "cell_type": "code",
   "execution_count": 66,
   "id": "56daf193",
   "metadata": {},
   "outputs": [
    {
     "name": "stdout",
     "output_type": "stream",
     "text": [
      "10\n",
      "55\n"
     ]
    }
   ],
   "source": [
    "n=int(input())\n",
    "sum_1=0\n",
    "i=1\n",
    "while i<=n:\n",
    "    sum_1+=i  # sum_1=sum_1+i\n",
    "    i=i+1\n",
    "print(sum_1)"
   ]
  },
  {
   "cell_type": "markdown",
   "id": "4044c7d5",
   "metadata": {},
   "source": [
    "### Control statements (Continue, break and pass)\n",
    "Control statements in python are used to control the order of execution of the program based on the values and logic\n",
    "\n",
    "1) Break Statement:\n",
    "The break statement is used to terminate the loop containing it, the control of the program will come out of that loop.\n",
    "\n",
    "2) Continue Statement:\n",
    "When the program encounters a continue statement, it will skip the statements which are present after the continue statement inside the loop and proceed with the next iterations.\n",
    "\n",
    "3) Pass Statement:\n",
    "Pass statement is python is a null operation, which is used when the statement is required syntactically"
   ]
  },
  {
   "cell_type": "code",
   "execution_count": 71,
   "id": "2889bc60",
   "metadata": {
    "collapsed": true
   },
   "outputs": [
    {
     "name": "stdout",
     "output_type": "stream",
     "text": [
      "J\n",
      "i\n",
      "g\n",
      "s\n",
      "a\n"
     ]
    }
   ],
   "source": [
    "## break\n",
    "str_1=\"Jigsaw-UNext\"\n",
    "## stop the iteration when letter is 'a'\n",
    "for i in str_1:\n",
    "    print(i)\n",
    "    if i=='a':\n",
    "        break\n",
    "                              "
   ]
  },
  {
   "cell_type": "code",
   "execution_count": 73,
   "id": "e42d5a74",
   "metadata": {
    "collapsed": true
   },
   "outputs": [
    {
     "name": "stdout",
     "output_type": "stream",
     "text": [
      "0\n",
      "1\n",
      "2\n",
      "3\n",
      "4\n",
      "5\n",
      "7\n",
      "8\n",
      "9\n",
      "10\n"
     ]
    }
   ],
   "source": [
    "### Continue\n",
    "## print the values 1 to 10, skip the value 6.\n",
    "for i in range(11):\n",
    "    if i==6:\n",
    "        continue\n",
    "    print(i)"
   ]
  },
  {
   "cell_type": "code",
   "execution_count": null,
   "id": "5ebc2fe4",
   "metadata": {},
   "outputs": [],
   "source": [
    "### pass "
   ]
  },
  {
   "cell_type": "code",
   "execution_count": 75,
   "id": "0035510f",
   "metadata": {},
   "outputs": [],
   "source": [
    "for i in range(10):\n",
    "    pass"
   ]
  },
  {
   "cell_type": "code",
   "execution_count": null,
   "id": "14116c31",
   "metadata": {},
   "outputs": [],
   "source": [
    "#### Hands -on- Problems"
   ]
  },
  {
   "cell_type": "markdown",
   "id": "dc66d6e5",
   "metadata": {},
   "source": [
    "Write a program that prompts the user to input a number and reverse its digits. For example, the reverse of 12345 is 54321; reverse of 5600 is 65."
   ]
  },
  {
   "cell_type": "markdown",
   "id": "ceafc360",
   "metadata": {},
   "source": [
    "Write programs to print following patterns :\n",
    "\n",
    "1.\n",
    "**********\n",
    "**********\n",
    "**********\n",
    "**********\n",
    "        \n",
    "2.  \n",
    "*\n",
    "**\n",
    "***\n",
    "****\n",
    "*****"
   ]
  },
  {
   "cell_type": "code",
   "execution_count": null,
   "id": "dcddc4b2",
   "metadata": {},
   "outputs": [],
   "source": [
    "Write a program that display following output:\n",
    "\n",
    "SHIFT\n",
    "HIFTS\n",
    "IFTSH\n",
    "FTSHI\n",
    "TSHIF\n",
    "SHIFT"
   ]
  },
  {
   "cell_type": "code",
   "execution_count": null,
   "id": "7071cdea",
   "metadata": {},
   "outputs": [],
   "source": [
    "assign_txt=\"This is the sentence with a number 56 here and 72 here\"\n",
    "# count how many times numbers occur in the given string object."
   ]
  },
  {
   "cell_type": "markdown",
   "id": "20dbd8f9",
   "metadata": {},
   "source": [
    "#### Solution"
   ]
  },
  {
   "cell_type": "code",
   "execution_count": 81,
   "id": "9161a28a",
   "metadata": {},
   "outputs": [
    {
     "name": "stdout",
     "output_type": "stream",
     "text": [
      "Enter positive number:12345\n",
      "54321\n"
     ]
    }
   ],
   "source": [
    "n=int(input(\"Enter positive number:\"))\n",
    "temp=n\n",
    "rev_no=0\n",
    "while temp>0:\n",
    "    last_digit=temp%10  # returns last digit\n",
    "    rev_no=last_digit+rev_no*10\n",
    "    temp=int(temp/10)  # temp//10\n",
    "print(rev_no)"
   ]
  },
  {
   "cell_type": "code",
   "execution_count": 85,
   "id": "13407808",
   "metadata": {},
   "outputs": [
    {
     "data": {
      "text/plain": [
       "'olleh'"
      ]
     },
     "execution_count": 85,
     "metadata": {},
     "output_type": "execute_result"
    }
   ],
   "source": [
    "s='hello'\n",
    "s[::-1]"
   ]
  },
  {
   "cell_type": "code",
   "execution_count": 86,
   "id": "d5b0e515",
   "metadata": {},
   "outputs": [
    {
     "name": "stdout",
     "output_type": "stream",
     "text": [
      "5600\n"
     ]
    },
    {
     "data": {
      "text/plain": [
       "65"
      ]
     },
     "execution_count": 86,
     "metadata": {},
     "output_type": "execute_result"
    }
   ],
   "source": [
    "#alternative method\n",
    "n=int(input())\n",
    "num=str(n)\n",
    "result=int(num[::-1]) # reverse order num[start:end:step]\n",
    "result"
   ]
  },
  {
   "cell_type": "code",
   "execution_count": 87,
   "id": "e107ad10",
   "metadata": {},
   "outputs": [
    {
     "name": "stdout",
     "output_type": "stream",
     "text": [
      "**********\n",
      "**********\n",
      "**********\n",
      "**********\n"
     ]
    }
   ],
   "source": [
    "#2.\n",
    "for i in range(4):\n",
    "    for j in range(10):\n",
    "        print('*',end='')\n",
    "    print()"
   ]
  },
  {
   "cell_type": "code",
   "execution_count": 88,
   "id": "55476e37",
   "metadata": {},
   "outputs": [
    {
     "name": "stdout",
     "output_type": "stream",
     "text": [
      "*\n",
      "**\n",
      "***\n",
      "****\n",
      "*****\n"
     ]
    }
   ],
   "source": [
    "for i in range(5):\n",
    "    for j in range(i+1):\n",
    "        print('*',end='')\n",
    "    print()    "
   ]
  },
  {
   "cell_type": "code",
   "execution_count": 89,
   "id": "8ae48eaf",
   "metadata": {},
   "outputs": [
    {
     "name": "stdout",
     "output_type": "stream",
     "text": [
      "SHIFT\n",
      "HIFTS\n",
      "IFTSH\n",
      "FTSHI\n",
      "TSHIF\n",
      "SHIFT\n"
     ]
    }
   ],
   "source": [
    "text='SHIFT'\n",
    "for i in range(6):\n",
    "    newtext=text[i:]+text[:i]\n",
    "    print(newtext)"
   ]
  },
  {
   "cell_type": "code",
   "execution_count": 91,
   "id": "f2d20c24",
   "metadata": {},
   "outputs": [
    {
     "name": "stdout",
     "output_type": "stream",
     "text": [
      "2\n"
     ]
    }
   ],
   "source": [
    "assign_txt=\"This is the sentence with a number 56 here and 72 here\"\n",
    "count=0\n",
    "for num in assign_txt.split():\n",
    "    #print(num)\n",
    "    if num.isnumeric():\n",
    "        count+=1\n",
    "print(count)"
   ]
  },
  {
   "cell_type": "markdown",
   "id": "62ad5797",
   "metadata": {},
   "source": [
    "### Data Structures"
   ]
  },
  {
   "cell_type": "markdown",
   "id": "758ccbaa",
   "metadata": {},
   "source": [
    "#### List"
   ]
  },
  {
   "cell_type": "markdown",
   "id": "edd8ca28",
   "metadata": {},
   "source": [
    "- An ordered sequence of values enclosed with []\n",
    "- can be created by [] or list()\n",
    "- mutable\n",
    "- iterable\n",
    "- containg multilpe data types"
   ]
  },
  {
   "cell_type": "code",
   "execution_count": 92,
   "id": "7d46dc45",
   "metadata": {},
   "outputs": [],
   "source": [
    "#empty list\n",
    "newlist=[]\n",
    "newlist1=list()"
   ]
  },
  {
   "cell_type": "code",
   "execution_count": 93,
   "id": "67f9e061",
   "metadata": {},
   "outputs": [
    {
     "data": {
      "text/plain": [
       "list"
      ]
     },
     "execution_count": 93,
     "metadata": {},
     "output_type": "execute_result"
    }
   ],
   "source": [
    "type(newlist)\n",
    "type(newlist1)"
   ]
  },
  {
   "cell_type": "code",
   "execution_count": 94,
   "id": "544b2ba1",
   "metadata": {},
   "outputs": [
    {
     "data": {
      "text/plain": [
       "[23, 67, 89]"
      ]
     },
     "execution_count": 94,
     "metadata": {},
     "output_type": "execute_result"
    }
   ],
   "source": [
    "# create a list of int values\n",
    "list1=[23,67,89]\n",
    "list1"
   ]
  },
  {
   "cell_type": "code",
   "execution_count": 95,
   "id": "330ba252",
   "metadata": {},
   "outputs": [
    {
     "data": {
      "text/plain": [
       "['hi', 'wel', 'to']"
      ]
     },
     "execution_count": 95,
     "metadata": {},
     "output_type": "execute_result"
    }
   ],
   "source": [
    "# create a list of string values\n",
    "list2=['hi','wel','to']\n",
    "list2"
   ]
  },
  {
   "cell_type": "code",
   "execution_count": 96,
   "id": "9ea547a4",
   "metadata": {},
   "outputs": [
    {
     "data": {
      "text/plain": [
       "[23, 7.8, True, 'hello']"
      ]
     },
     "execution_count": 96,
     "metadata": {},
     "output_type": "execute_result"
    }
   ],
   "source": [
    "# create a list of multiple data types\n",
    "list3=[23,7.8,True,'hello']\n",
    "list3"
   ]
  },
  {
   "cell_type": "code",
   "execution_count": 97,
   "id": "b74ef436",
   "metadata": {},
   "outputs": [
    {
     "data": {
      "text/plain": [
       "7.8"
      ]
     },
     "execution_count": 97,
     "metadata": {},
     "output_type": "execute_result"
    }
   ],
   "source": [
    "### iterable\n",
    "#indexing & Slicing\n",
    "#extract 7.8 from list3\n",
    "list3[1]"
   ]
  },
  {
   "cell_type": "code",
   "execution_count": 98,
   "id": "c31b0b90",
   "metadata": {},
   "outputs": [
    {
     "data": {
      "text/plain": [
       "[14, 16, 7, 83, 'at']"
      ]
     },
     "execution_count": 98,
     "metadata": {},
     "output_type": "execute_result"
    }
   ],
   "source": [
    "list4=[12,14,16,7,83,'at','new']\n",
    "#extract [14,16,7,83,'at']\n",
    "list4[1:6]"
   ]
  },
  {
   "cell_type": "code",
   "execution_count": 100,
   "id": "dca8878f",
   "metadata": {},
   "outputs": [
    {
     "data": {
      "text/plain": [
       "[43, 89]"
      ]
     },
     "execution_count": 100,
     "metadata": {},
     "output_type": "execute_result"
    }
   ],
   "source": [
    "list_5= [2,34,5,[56,81,[43,89],61],10]\n",
    "#extract [43,89]\n",
    "list_5[3][2]"
   ]
  },
  {
   "cell_type": "code",
   "execution_count": 101,
   "id": "31d260df",
   "metadata": {},
   "outputs": [
    {
     "data": {
      "text/plain": [
       "89"
      ]
     },
     "execution_count": 101,
     "metadata": {},
     "output_type": "execute_result"
    }
   ],
   "source": [
    "#extract 89\n",
    "list_5[3][2][1]"
   ]
  },
  {
   "cell_type": "code",
   "execution_count": 102,
   "id": "189ed9bb",
   "metadata": {},
   "outputs": [
    {
     "data": {
      "text/plain": [
       "[100, 34, 5, [56, 81, [43, 89], 61], 10]"
      ]
     },
     "execution_count": 102,
     "metadata": {},
     "output_type": "execute_result"
    }
   ],
   "source": [
    "# mutable\n",
    "# change 2 into 100 in list_5\n",
    "list_5[0]=100\n",
    "list_5"
   ]
  },
  {
   "cell_type": "code",
   "execution_count": 104,
   "id": "d6b1e3b6",
   "metadata": {},
   "outputs": [
    {
     "data": {
      "text/plain": [
       "[100, 34, 5, [56, 81, [43, 89], 61], 25678]"
      ]
     },
     "execution_count": 104,
     "metadata": {},
     "output_type": "execute_result"
    }
   ],
   "source": [
    "list_5[4]=25678\n",
    "list_5"
   ]
  },
  {
   "cell_type": "markdown",
   "id": "746e0651",
   "metadata": {},
   "source": [
    "#### List methods"
   ]
  },
  {
   "cell_type": "code",
   "execution_count": 105,
   "id": "567b37f7",
   "metadata": {},
   "outputs": [
    {
     "name": "stdout",
     "output_type": "stream",
     "text": [
      "['__add__', '__class__', '__class_getitem__', '__contains__', '__delattr__', '__delitem__', '__dir__', '__doc__', '__eq__', '__format__', '__ge__', '__getattribute__', '__getitem__', '__gt__', '__hash__', '__iadd__', '__imul__', '__init__', '__init_subclass__', '__iter__', '__le__', '__len__', '__lt__', '__mul__', '__ne__', '__new__', '__reduce__', '__reduce_ex__', '__repr__', '__reversed__', '__rmul__', '__setattr__', '__setitem__', '__sizeof__', '__str__', '__subclasshook__', 'append', 'clear', 'copy', 'count', 'extend', 'index', 'insert', 'pop', 'remove', 'reverse', 'sort']\n"
     ]
    }
   ],
   "source": [
    "print(dir(list_5))"
   ]
  },
  {
   "cell_type": "code",
   "execution_count": 106,
   "id": "3a793a47",
   "metadata": {},
   "outputs": [],
   "source": [
    "# extend\n",
    "list_1=[11,2,14,10]\n",
    "list_2=[10,30,20,1]\n",
    "list_1.extend(list_2)"
   ]
  },
  {
   "cell_type": "code",
   "execution_count": 107,
   "id": "f8e56284",
   "metadata": {},
   "outputs": [
    {
     "data": {
      "text/plain": [
       "[11, 2, 14, 10, 10, 30, 20, 1]"
      ]
     },
     "execution_count": 107,
     "metadata": {},
     "output_type": "execute_result"
    }
   ],
   "source": [
    "list_1"
   ]
  },
  {
   "cell_type": "code",
   "execution_count": 108,
   "id": "d5997950",
   "metadata": {},
   "outputs": [],
   "source": [
    "#append\n",
    "list_3=[11,2,14,10]\n",
    "list_4=[10,30,20,1]\n",
    "list_3.append(list_4)"
   ]
  },
  {
   "cell_type": "code",
   "execution_count": 109,
   "id": "64af43ec",
   "metadata": {},
   "outputs": [
    {
     "data": {
      "text/plain": [
       "[11, 2, 14, 10, [10, 30, 20, 1]]"
      ]
     },
     "execution_count": 109,
     "metadata": {},
     "output_type": "execute_result"
    }
   ],
   "source": [
    "list_3"
   ]
  },
  {
   "cell_type": "code",
   "execution_count": 110,
   "id": "313a6386",
   "metadata": {},
   "outputs": [
    {
     "data": {
      "text/plain": [
       "[11, 345, 2, 14, 10, [10, 30, 20, 1]]"
      ]
     },
     "execution_count": 110,
     "metadata": {},
     "output_type": "execute_result"
    }
   ],
   "source": [
    "#insert\n",
    "# object.insert(index,value)\n",
    "list_3.insert(1,345)\n",
    "list_3"
   ]
  },
  {
   "cell_type": "code",
   "execution_count": 111,
   "id": "d8a4f900",
   "metadata": {},
   "outputs": [
    {
     "data": {
      "text/plain": [
       "345"
      ]
     },
     "execution_count": 111,
     "metadata": {},
     "output_type": "execute_result"
    }
   ],
   "source": [
    "#pop --> removes the element based on the index\n",
    "# object.pop()--> removes the last element\n",
    "# object.pop(index)\n",
    "#remove 345 from list_3\n",
    "list_3.pop(1)"
   ]
  },
  {
   "cell_type": "code",
   "execution_count": 112,
   "id": "41082b33",
   "metadata": {},
   "outputs": [
    {
     "data": {
      "text/plain": [
       "[11, 2, 14, 10, [10, 30, 20, 1]]"
      ]
     },
     "execution_count": 112,
     "metadata": {},
     "output_type": "execute_result"
    }
   ],
   "source": [
    "list_3"
   ]
  },
  {
   "cell_type": "code",
   "execution_count": 113,
   "id": "5ada5ee0",
   "metadata": {},
   "outputs": [
    {
     "data": {
      "text/plain": [
       "[10, 30, 20, 1]"
      ]
     },
     "execution_count": 113,
     "metadata": {},
     "output_type": "execute_result"
    }
   ],
   "source": [
    "# object.pop()--> removes the last element\n",
    "list_3.pop()"
   ]
  },
  {
   "cell_type": "code",
   "execution_count": 114,
   "id": "2670d0ea",
   "metadata": {},
   "outputs": [
    {
     "data": {
      "text/plain": [
       "[11, 2, 14, 10]"
      ]
     },
     "execution_count": 114,
     "metadata": {},
     "output_type": "execute_result"
    }
   ],
   "source": [
    "list_3"
   ]
  },
  {
   "cell_type": "code",
   "execution_count": null,
   "id": "afa127ca",
   "metadata": {},
   "outputs": [],
   "source": [
    "#remove --> removes the element based on the given value"
   ]
  },
  {
   "cell_type": "code",
   "execution_count": 115,
   "id": "3762610e",
   "metadata": {},
   "outputs": [
    {
     "data": {
      "text/plain": [
       "[11, 2, 10]"
      ]
     },
     "execution_count": 115,
     "metadata": {},
     "output_type": "execute_result"
    }
   ],
   "source": [
    "#remove 14 from list_3\n",
    "list_3.remove(14)\n",
    "list_3"
   ]
  },
  {
   "cell_type": "code",
   "execution_count": 121,
   "id": "c9e1f421",
   "metadata": {},
   "outputs": [
    {
     "data": {
      "text/plain": [
       "[10, 2, 11]"
      ]
     },
     "execution_count": 121,
     "metadata": {},
     "output_type": "execute_result"
    }
   ],
   "source": [
    "#reverse\n",
    "#object.reverse()\n",
    "list_3.reverse()\n",
    "list_3"
   ]
  },
  {
   "cell_type": "code",
   "execution_count": 120,
   "id": "e6f99eea",
   "metadata": {},
   "outputs": [],
   "source": [
    "## sort --> arrange elements in ascending/descending order"
   ]
  },
  {
   "cell_type": "code",
   "execution_count": 122,
   "id": "73f65218",
   "metadata": {},
   "outputs": [
    {
     "data": {
      "text/plain": [
       "[2, 10, 11]"
      ]
     },
     "execution_count": 122,
     "metadata": {},
     "output_type": "execute_result"
    }
   ],
   "source": [
    "list_3.sort()\n",
    "list_3"
   ]
  },
  {
   "cell_type": "code",
   "execution_count": 124,
   "id": "47661991",
   "metadata": {},
   "outputs": [
    {
     "data": {
      "text/plain": [
       "[11, 10, 2]"
      ]
     },
     "execution_count": 124,
     "metadata": {},
     "output_type": "execute_result"
    }
   ],
   "source": [
    "#descending order (reverse=True)\n",
    "list_3.sort(reverse=True)\n",
    "list_3"
   ]
  },
  {
   "cell_type": "code",
   "execution_count": 125,
   "id": "a822dd33",
   "metadata": {},
   "outputs": [],
   "source": [
    "#sorted() function & sort() method\n",
    "v1=[4,1,80,12,56]"
   ]
  },
  {
   "cell_type": "code",
   "execution_count": 126,
   "id": "1b1e46a7",
   "metadata": {},
   "outputs": [
    {
     "data": {
      "text/plain": [
       "[1, 4, 12, 56, 80]"
      ]
     },
     "execution_count": 126,
     "metadata": {},
     "output_type": "execute_result"
    }
   ],
   "source": [
    "sorted(v1)"
   ]
  },
  {
   "cell_type": "code",
   "execution_count": 127,
   "id": "68416973",
   "metadata": {},
   "outputs": [
    {
     "data": {
      "text/plain": [
       "[4, 1, 80, 12, 56]"
      ]
     },
     "execution_count": 127,
     "metadata": {},
     "output_type": "execute_result"
    }
   ],
   "source": [
    "v1"
   ]
  },
  {
   "cell_type": "code",
   "execution_count": 128,
   "id": "54387903",
   "metadata": {},
   "outputs": [],
   "source": [
    "v1.sort()"
   ]
  },
  {
   "cell_type": "code",
   "execution_count": 129,
   "id": "81b2d4c8",
   "metadata": {},
   "outputs": [
    {
     "data": {
      "text/plain": [
       "[1, 4, 12, 56, 80]"
      ]
     },
     "execution_count": 129,
     "metadata": {},
     "output_type": "execute_result"
    }
   ],
   "source": [
    "v1"
   ]
  },
  {
   "cell_type": "code",
   "execution_count": null,
   "id": "c7ab4cfa",
   "metadata": {},
   "outputs": [],
   "source": [
    "list_5= [2,34,5,[56,81,[43,89],61],10]\n",
    "#remove 81"
   ]
  },
  {
   "cell_type": "code",
   "execution_count": 130,
   "id": "ea6a6d41",
   "metadata": {},
   "outputs": [],
   "source": [
    "del(list_5[3][1])"
   ]
  },
  {
   "cell_type": "code",
   "execution_count": 131,
   "id": "5b1fe65f",
   "metadata": {},
   "outputs": [
    {
     "data": {
      "text/plain": [
       "[100, 34, 5, [56, [43, 89], 61], 25678]"
      ]
     },
     "execution_count": 131,
     "metadata": {},
     "output_type": "execute_result"
    }
   ],
   "source": [
    "list_5"
   ]
  },
  {
   "cell_type": "code",
   "execution_count": 132,
   "id": "b4c7f510",
   "metadata": {},
   "outputs": [
    {
     "data": {
      "text/plain": [
       "['12', '08', '2023']"
      ]
     },
     "execution_count": 132,
     "metadata": {},
     "output_type": "execute_result"
    }
   ],
   "source": [
    "### split() method on string objects --> it will return list object\n",
    "dt='12-08-2023'\n",
    "dt.split('-')"
   ]
  },
  {
   "cell_type": "code",
   "execution_count": 133,
   "id": "86188cc2",
   "metadata": {},
   "outputs": [],
   "source": [
    "## apply +, * on list objects\n",
    "ls1=[12,23,12,54]\n",
    "ls2=[34,6,7,8]"
   ]
  },
  {
   "cell_type": "code",
   "execution_count": 134,
   "id": "ee3a7af4",
   "metadata": {},
   "outputs": [
    {
     "data": {
      "text/plain": [
       "[12, 23, 12, 54, 34, 6, 7, 8]"
      ]
     },
     "execution_count": 134,
     "metadata": {},
     "output_type": "execute_result"
    }
   ],
   "source": [
    "ls1+ls2"
   ]
  },
  {
   "cell_type": "code",
   "execution_count": 136,
   "id": "da60ac7e",
   "metadata": {},
   "outputs": [
    {
     "data": {
      "text/plain": [
       "[12, 23, 12, 54, 12, 23, 12, 54, 12, 23, 12, 54]"
      ]
     },
     "execution_count": 136,
     "metadata": {},
     "output_type": "execute_result"
    }
   ],
   "source": [
    "ls1*3"
   ]
  },
  {
   "cell_type": "markdown",
   "id": "a08617cd",
   "metadata": {},
   "source": [
    "### Hands -on- Problems"
   ]
  },
  {
   "cell_type": "markdown",
   "id": "8225805f",
   "metadata": {},
   "source": [
    "Write a Python program to sum all the items in a list."
   ]
  },
  {
   "cell_type": "markdown",
   "id": "82936a29",
   "metadata": {},
   "source": [
    "Write a Python program to count the number of strings from a given list of strings. The string length is 2 or more and the first and last characters are the same."
   ]
  },
  {
   "cell_type": "markdown",
   "id": "332c3adc",
   "metadata": {},
   "source": [
    "Write a program to print the numbers of a specified list after removing even numbers from a list"
   ]
  },
  {
   "cell_type": "markdown",
   "id": "19ec5a7d",
   "metadata": {},
   "source": [
    "#### Solution"
   ]
  },
  {
   "cell_type": "code",
   "execution_count": 137,
   "id": "ca1ed6ea",
   "metadata": {},
   "outputs": [
    {
     "name": "stdout",
     "output_type": "stream",
     "text": [
      "1,3,4\n",
      "8\n",
      "<class 'list'>\n"
     ]
    }
   ],
   "source": [
    "items=input().split(',')\n",
    "for i in range(len(items)):\n",
    "    items[i]=int(items[i])\n",
    "sum_1=0\n",
    "for j in items:\n",
    "    sum_1+=j\n",
    "print(sum_1)\n",
    "print(type(items))"
   ]
  },
  {
   "cell_type": "code",
   "execution_count": 138,
   "id": "2a50bb95",
   "metadata": {},
   "outputs": [
    {
     "name": "stdout",
     "output_type": "stream",
     "text": [
      "hi nen welclew \n",
      "2\n"
     ]
    }
   ],
   "source": [
    "words=input().split()\n",
    "c=0\n",
    "for i in words:\n",
    "    if len(i)>1 and i[0]==i[-1]:\n",
    "        c+=1\n",
    "print(c)"
   ]
  },
  {
   "cell_type": "code",
   "execution_count": 139,
   "id": "f86e49a5",
   "metadata": {},
   "outputs": [
    {
     "name": "stdout",
     "output_type": "stream",
     "text": [
      "23,12,56,11\n",
      "[23, 11]\n"
     ]
    }
   ],
   "source": [
    "items=input().split(',')\n",
    "x=[]\n",
    "for i in range(len(items)):\n",
    "    items[i]=int(items[i])\n",
    "for j in items:\n",
    "    if j%2!=0:\n",
    "        x.append(j)\n",
    "print(x)"
   ]
  },
  {
   "cell_type": "code",
   "execution_count": 141,
   "id": "736021c6",
   "metadata": {},
   "outputs": [
    {
     "name": "stdout",
     "output_type": "stream",
     "text": [
      "[1, 3, 6]\n"
     ]
    }
   ],
   "source": [
    "l1=[1,2,3,4,6,6]\n",
    "for i in l1:\n",
    "    if i%2==0:\n",
    "        l1.remove(i)\n",
    "print(l1)   # remove method will not work for consecutive even numbers"
   ]
  },
  {
   "cell_type": "markdown",
   "id": "d14e5772",
   "metadata": {},
   "source": [
    "#### Tuple"
   ]
  },
  {
   "cell_type": "markdown",
   "id": "95d6ecaa",
   "metadata": {},
   "source": [
    "- A tuple is a sequence of items\n",
    "- contains multiple data types\n",
    "- created by using () or tuple()\n",
    "- iterables\n",
    "- immutable"
   ]
  },
  {
   "cell_type": "code",
   "execution_count": 142,
   "id": "79e70e98",
   "metadata": {},
   "outputs": [],
   "source": [
    "# create tuple with multiple data type of elements\n",
    "t1=()\n",
    "t2=tuple()"
   ]
  },
  {
   "cell_type": "code",
   "execution_count": 143,
   "id": "3f522213",
   "metadata": {},
   "outputs": [
    {
     "data": {
      "text/plain": [
       "tuple"
      ]
     },
     "execution_count": 143,
     "metadata": {},
     "output_type": "execute_result"
    }
   ],
   "source": [
    "type(t1)"
   ]
  },
  {
   "cell_type": "code",
   "execution_count": 144,
   "id": "7658cc29",
   "metadata": {},
   "outputs": [
    {
     "data": {
      "text/plain": [
       "tuple"
      ]
     },
     "execution_count": 144,
     "metadata": {},
     "output_type": "execute_result"
    }
   ],
   "source": [
    "type(t2)"
   ]
  },
  {
   "cell_type": "code",
   "execution_count": 147,
   "id": "c78f57a8",
   "metadata": {},
   "outputs": [
    {
     "data": {
      "text/plain": [
       "(4, 4.5, 'rare', True)"
      ]
     },
     "execution_count": 147,
     "metadata": {},
     "output_type": "execute_result"
    }
   ],
   "source": [
    "t3=(4,4.5,'rare',True)\n",
    "t3"
   ]
  },
  {
   "cell_type": "code",
   "execution_count": 149,
   "id": "5668223b",
   "metadata": {},
   "outputs": [
    {
     "data": {
      "text/plain": [
       "'rare'"
      ]
     },
     "execution_count": 149,
     "metadata": {},
     "output_type": "execute_result"
    }
   ],
   "source": [
    "#iterable\n",
    "#indexing & slicing\n",
    "t3[2]"
   ]
  },
  {
   "cell_type": "code",
   "execution_count": 150,
   "id": "c0972ee6",
   "metadata": {},
   "outputs": [
    {
     "data": {
      "text/plain": [
       "(4.5, 'rare', True)"
      ]
     },
     "execution_count": 150,
     "metadata": {},
     "output_type": "execute_result"
    }
   ],
   "source": [
    "t3[1:4]"
   ]
  },
  {
   "cell_type": "code",
   "execution_count": 151,
   "id": "782d369f",
   "metadata": {},
   "outputs": [
    {
     "ename": "TypeError",
     "evalue": "'tuple' object does not support item assignment",
     "output_type": "error",
     "traceback": [
      "\u001b[1;31m---------------------------------------------------------------------------\u001b[0m",
      "\u001b[1;31mTypeError\u001b[0m                                 Traceback (most recent call last)",
      "\u001b[1;32m~\\AppData\\Local\\Temp\\ipykernel_15248\\821768580.py\u001b[0m in \u001b[0;36m<module>\u001b[1;34m\u001b[0m\n\u001b[0;32m      1\u001b[0m \u001b[1;31m#immutable\u001b[0m\u001b[1;33m\u001b[0m\u001b[1;33m\u001b[0m\u001b[0m\n\u001b[0;32m      2\u001b[0m \u001b[1;31m#change 4 into 400 in t3\u001b[0m\u001b[1;33m\u001b[0m\u001b[1;33m\u001b[0m\u001b[0m\n\u001b[1;32m----> 3\u001b[1;33m \u001b[0mt3\u001b[0m\u001b[1;33m[\u001b[0m\u001b[1;36m0\u001b[0m\u001b[1;33m]\u001b[0m\u001b[1;33m=\u001b[0m\u001b[1;36m400\u001b[0m\u001b[1;33m\u001b[0m\u001b[1;33m\u001b[0m\u001b[0m\n\u001b[0m",
      "\u001b[1;31mTypeError\u001b[0m: 'tuple' object does not support item assignment"
     ]
    }
   ],
   "source": [
    "#immutable\n",
    "#change 4 into 400 in t3\n",
    "t3[0]=400"
   ]
  },
  {
   "cell_type": "code",
   "execution_count": 152,
   "id": "a966dad6",
   "metadata": {},
   "outputs": [
    {
     "data": {
      "text/plain": [
       "(400, 4.5, 'rare', True)"
      ]
     },
     "execution_count": 152,
     "metadata": {},
     "output_type": "execute_result"
    }
   ],
   "source": [
    "t3=list(t3)  #convert tuple into list\n",
    "t3[0]=400    # do changes\n",
    "t3=tuple(t3) #convertr list into tuple\n",
    "t3"
   ]
  },
  {
   "cell_type": "code",
   "execution_count": 153,
   "id": "b4b65fd9",
   "metadata": {},
   "outputs": [
    {
     "name": "stdout",
     "output_type": "stream",
     "text": [
      "['__add__', '__class__', '__class_getitem__', '__contains__', '__delattr__', '__dir__', '__doc__', '__eq__', '__format__', '__ge__', '__getattribute__', '__getitem__', '__getnewargs__', '__gt__', '__hash__', '__init__', '__init_subclass__', '__iter__', '__le__', '__len__', '__lt__', '__mul__', '__ne__', '__new__', '__reduce__', '__reduce_ex__', '__repr__', '__rmul__', '__setattr__', '__sizeof__', '__str__', '__subclasshook__', 'count', 'index']\n"
     ]
    }
   ],
   "source": [
    "print(dir(t3))"
   ]
  },
  {
   "cell_type": "code",
   "execution_count": 154,
   "id": "0e389167",
   "metadata": {},
   "outputs": [
    {
     "data": {
      "text/plain": [
       "1"
      ]
     },
     "execution_count": 154,
     "metadata": {},
     "output_type": "execute_result"
    }
   ],
   "source": [
    "t3.count(400)  #shift+tab--> syntax & documentation"
   ]
  },
  {
   "cell_type": "markdown",
   "id": "c2e72b1e",
   "metadata": {},
   "source": [
    "### Hands - on- Problems"
   ]
  },
  {
   "cell_type": "code",
   "execution_count": null,
   "id": "a3da7d34",
   "metadata": {},
   "outputs": [],
   "source": [
    "Write a Python program to reverse a tuple."
   ]
  },
  {
   "cell_type": "code",
   "execution_count": null,
   "id": "01d31a69",
   "metadata": {},
   "outputs": [],
   "source": [
    "Write a Python program to remove an item from a tuple"
   ]
  },
  {
   "cell_type": "markdown",
   "id": "4b0bdca2",
   "metadata": {},
   "source": [
    "#### Solution"
   ]
  },
  {
   "cell_type": "code",
   "execution_count": null,
   "id": "822b95bc",
   "metadata": {},
   "outputs": [],
   "source": [
    "items=input().split()\n",
    "l=[]\n",
    "\n",
    "for i in items:\n",
    "    if i.isnumeric():\n",
    "        x=int(i)\n",
    "        l.append(x)\n",
    "    else:\n",
    "        l.append(i)\n",
    "t=tuple(l)\n",
    "\n",
    "tuple(reversed(l))"
   ]
  },
  {
   "cell_type": "code",
   "execution_count": null,
   "id": "675ff7b1",
   "metadata": {},
   "outputs": [],
   "source": [
    "items=input().split()  # get multiple inputs as a list\n",
    "print(items)\n",
    "l=[]\n",
    "for i in items:\n",
    "    if i.isnumeric():\n",
    "        x= int(i)\n",
    "        l.append(x)\n",
    "    else:\n",
    "        l.append(i)\n",
    "print(l)\n",
    "y=int(input())   # index \n",
    "l.remove(l[y])\n",
    "t=tuple(l)\n",
    "t"
   ]
  },
  {
   "cell_type": "code",
   "execution_count": null,
   "id": "ed716997",
   "metadata": {},
   "outputs": [],
   "source": []
  },
  {
   "cell_type": "markdown",
   "id": "c8658b4c",
   "metadata": {},
   "source": [
    "### Dictionary\n",
    "\n",
    "- A collection of unordered set of key:value pairs\n",
    "\n",
    "- create it by using {} or dict()\n",
    "\n",
    "- keys are unique. values are accessed by using keys, not by index\n",
    "\n",
    "- mutable\n",
    "\n",
    "- iterable"
   ]
  },
  {
   "cell_type": "code",
   "execution_count": 155,
   "id": "f383adf4",
   "metadata": {},
   "outputs": [],
   "source": [
    "#create empty dict\n",
    "d1={}\n",
    "d2=dict()"
   ]
  },
  {
   "cell_type": "code",
   "execution_count": 156,
   "id": "2cd0f068",
   "metadata": {},
   "outputs": [
    {
     "name": "stdout",
     "output_type": "stream",
     "text": [
      "<class 'dict'>\n",
      "<class 'dict'>\n"
     ]
    }
   ],
   "source": [
    "print(type(d1));print(type(d2))"
   ]
  },
  {
   "cell_type": "code",
   "execution_count": 157,
   "id": "6767510e",
   "metadata": {},
   "outputs": [
    {
     "data": {
      "text/plain": [
       "{'one': 34, 'two': 56, 'three': 7}"
      ]
     },
     "execution_count": 157,
     "metadata": {},
     "output_type": "execute_result"
    }
   ],
   "source": [
    "# create dict of integer values\n",
    "d_1={'one':34,'two':56,'three':7}\n",
    "d_1"
   ]
  },
  {
   "cell_type": "code",
   "execution_count": 158,
   "id": "777ece8c",
   "metadata": {},
   "outputs": [
    {
     "data": {
      "text/plain": [
       "{'e': 'new', 'y': 'o'}"
      ]
     },
     "execution_count": 158,
     "metadata": {},
     "output_type": "execute_result"
    }
   ],
   "source": [
    "#create dict of string values\n",
    "d_2={'e':'new','y':'o'}\n",
    "d_2"
   ]
  },
  {
   "cell_type": "code",
   "execution_count": 159,
   "id": "57f1192e",
   "metadata": {},
   "outputs": [
    {
     "data": {
      "text/plain": [
       "{'first': 300, 'second': 'hello', 'third': [2, 3, 4]}"
      ]
     },
     "execution_count": 159,
     "metadata": {},
     "output_type": "execute_result"
    }
   ],
   "source": [
    "#create dict of mixed data types\n",
    "d_3={'first':300,'second':'hello','third':[2,3,4]}\n",
    "d_3"
   ]
  },
  {
   "cell_type": "code",
   "execution_count": 160,
   "id": "1cefc73b",
   "metadata": {},
   "outputs": [
    {
     "data": {
      "text/plain": [
       "dict_keys(['first', 'second', 'third'])"
      ]
     },
     "execution_count": 160,
     "metadata": {},
     "output_type": "execute_result"
    }
   ],
   "source": [
    "d_3.keys()"
   ]
  },
  {
   "cell_type": "code",
   "execution_count": 161,
   "id": "744e3118",
   "metadata": {},
   "outputs": [
    {
     "data": {
      "text/plain": [
       "dict_values([300, 'hello', [2, 3, 4]])"
      ]
     },
     "execution_count": 161,
     "metadata": {},
     "output_type": "execute_result"
    }
   ],
   "source": [
    "d_3.values()"
   ]
  },
  {
   "cell_type": "code",
   "execution_count": 162,
   "id": "27f990c7",
   "metadata": {},
   "outputs": [
    {
     "data": {
      "text/plain": [
       "dict_items([('first', 300), ('second', 'hello'), ('third', [2, 3, 4])])"
      ]
     },
     "execution_count": 162,
     "metadata": {},
     "output_type": "execute_result"
    }
   ],
   "source": [
    "d_3.items()"
   ]
  },
  {
   "cell_type": "code",
   "execution_count": 164,
   "id": "e8af1fdf",
   "metadata": {},
   "outputs": [],
   "source": [
    "#Convert two lists into a dictionary\n",
    "keys = ['Ten', 'Twenty', 'Thirty']\n",
    "values = [10, 20, 30]\n",
    "#Expected output:\n",
    "#{'Ten': 10, 'Twenty': 20, 'Thirty': 30}"
   ]
  },
  {
   "cell_type": "code",
   "execution_count": 165,
   "id": "9b2fe7ef",
   "metadata": {},
   "outputs": [
    {
     "data": {
      "text/plain": [
       "{'Ten': 10, 'Twenty': 20, 'Thirty': 30}"
      ]
     },
     "execution_count": 165,
     "metadata": {},
     "output_type": "execute_result"
    }
   ],
   "source": [
    "# zip() combine 2 more iterable into a single iterable paired together as tuple\n",
    "# zip() --> generator function\n",
    "dict(zip(keys,values))"
   ]
  },
  {
   "cell_type": "code",
   "execution_count": 166,
   "id": "a30283fd",
   "metadata": {},
   "outputs": [
    {
     "data": {
      "text/plain": [
       "{'first': 300, 'second': 'hello', 'third': [2, 3, 4]}"
      ]
     },
     "execution_count": 166,
     "metadata": {},
     "output_type": "execute_result"
    }
   ],
   "source": [
    "###iterable\n",
    "#indexing &slicing\n",
    "d_3"
   ]
  },
  {
   "cell_type": "code",
   "execution_count": 168,
   "id": "8479aa50",
   "metadata": {},
   "outputs": [
    {
     "data": {
      "text/plain": [
       "'hello'"
      ]
     },
     "execution_count": 168,
     "metadata": {},
     "output_type": "execute_result"
    }
   ],
   "source": [
    "#extract 'hello' from d_3\n",
    "d_3['second']"
   ]
  },
  {
   "cell_type": "code",
   "execution_count": 170,
   "id": "63dc2d03",
   "metadata": {},
   "outputs": [
    {
     "data": {
      "text/plain": [
       "4"
      ]
     },
     "execution_count": 170,
     "metadata": {},
     "output_type": "execute_result"
    }
   ],
   "source": [
    "#extract 4 from d_3\n",
    "d_3['third'][2]"
   ]
  },
  {
   "cell_type": "code",
   "execution_count": 171,
   "id": "90f91f5e",
   "metadata": {},
   "outputs": [
    {
     "data": {
      "text/plain": [
       "{'first': 150, 'second': 'hello', 'third': [2, 3, 4]}"
      ]
     },
     "execution_count": 171,
     "metadata": {},
     "output_type": "execute_result"
    }
   ],
   "source": [
    "#mutable\n",
    "#change 300 into 150\n",
    "d_3['first']=150\n",
    "d_3"
   ]
  },
  {
   "cell_type": "code",
   "execution_count": 173,
   "id": "8e40e0eb",
   "metadata": {},
   "outputs": [
    {
     "data": {
      "text/plain": [
       "{'second': 'hello', 'third': [2, 3, 4], 'one': 150}"
      ]
     },
     "execution_count": 173,
     "metadata": {},
     "output_type": "execute_result"
    }
   ],
   "source": [
    "#change 'first' into 'one'\n",
    "d_3['one']=d_3.pop('first')\n",
    "d_3"
   ]
  },
  {
   "cell_type": "code",
   "execution_count": 172,
   "id": "7e106a82",
   "metadata": {
    "collapsed": true
   },
   "outputs": [
    {
     "name": "stdout",
     "output_type": "stream",
     "text": [
      "['__class__', '__class_getitem__', '__contains__', '__delattr__', '__delitem__', '__dir__', '__doc__', '__eq__', '__format__', '__ge__', '__getattribute__', '__getitem__', '__gt__', '__hash__', '__init__', '__init_subclass__', '__ior__', '__iter__', '__le__', '__len__', '__lt__', '__ne__', '__new__', '__or__', '__reduce__', '__reduce_ex__', '__repr__', '__reversed__', '__ror__', '__setattr__', '__setitem__', '__sizeof__', '__str__', '__subclasshook__', 'clear', 'copy', 'fromkeys', 'get', 'items', 'keys', 'pop', 'popitem', 'setdefault', 'update', 'values']\n"
     ]
    }
   ],
   "source": [
    "print(dir(d_3))"
   ]
  },
  {
   "cell_type": "code",
   "execution_count": 176,
   "id": "7de9d784",
   "metadata": {},
   "outputs": [
    {
     "data": {
      "text/plain": [
       "True"
      ]
     },
     "execution_count": 176,
     "metadata": {},
     "output_type": "execute_result"
    }
   ],
   "source": [
    "# Check if a value exists in a dictionary\n",
    "#check if value 200 exists in the following dictionary.\n",
    "\n",
    "sample_dict = {'a': 100, 'b': 200, 'c': 300}\n",
    "200 in sample_dict.values()"
   ]
  },
  {
   "cell_type": "code",
   "execution_count": null,
   "id": "2d2e9aa6",
   "metadata": {},
   "outputs": [],
   "source": [
    "#Rename key of a dictionary\n",
    "#Write a program to rename a key city to a location in the following dictionary."
   ]
  },
  {
   "cell_type": "code",
   "execution_count": 177,
   "id": "b0433f5e",
   "metadata": {},
   "outputs": [],
   "source": [
    "sample_dict = {\n",
    "  \"name\": \"Kelly\",\n",
    "  \"age\":25,\n",
    "  \"salary\": 8000,\n",
    "  \"city\": \"New york\"\n",
    "}"
   ]
  },
  {
   "cell_type": "code",
   "execution_count": 178,
   "id": "7a43c4b1",
   "metadata": {},
   "outputs": [
    {
     "data": {
      "text/plain": [
       "{'name': 'Kelly', 'age': 25, 'salary': 8000, 'location': 'New york'}"
      ]
     },
     "execution_count": 178,
     "metadata": {},
     "output_type": "execute_result"
    }
   ],
   "source": [
    "sample_dict['location']=sample_dict.pop('city')\n",
    "sample_dict"
   ]
  },
  {
   "cell_type": "code",
   "execution_count": 180,
   "id": "a44238ea",
   "metadata": {},
   "outputs": [
    {
     "name": "stdout",
     "output_type": "stream",
     "text": [
      "hello\n",
      "[2, 3, 4]\n",
      "150\n"
     ]
    }
   ],
   "source": [
    "for i in d_3:\n",
    "    print(d_3[i])"
   ]
  },
  {
   "cell_type": "code",
   "execution_count": null,
   "id": "e11e8813",
   "metadata": {},
   "outputs": [],
   "source": []
  }
 ],
 "metadata": {
  "kernelspec": {
   "display_name": "Python 3 (ipykernel)",
   "language": "python",
   "name": "python3"
  },
  "language_info": {
   "codemirror_mode": {
    "name": "ipython",
    "version": 3
   },
   "file_extension": ".py",
   "mimetype": "text/x-python",
   "name": "python",
   "nbconvert_exporter": "python",
   "pygments_lexer": "ipython3",
   "version": "3.9.13"
  }
 },
 "nbformat": 4,
 "nbformat_minor": 5
}
