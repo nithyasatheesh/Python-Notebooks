{
 "cells": [
  {
   "cell_type": "markdown",
   "id": "80003515",
   "metadata": {},
   "source": [
    "### Object Oriented Programming\n",
    "\n",
    "- Class\n",
    "\n",
    "- Objects\n",
    "\n",
    "- Methods\n",
    "\n",
    "- Inheritance\n",
    "\n",
    "- Polymorphism\n",
    "\n",
    "- Encapsulation\n",
    "\n",
    "- Abstraction"
   ]
  },
  {
   "cell_type": "raw",
   "id": "60f9c93b",
   "metadata": {},
   "source": [
    "OOP:\n",
    "    Class\n",
    "       object\n",
    "            Instance\n",
    "        Methods\n",
    "                class methos __init__() intialstage of the object by asigning the values of the \n",
    "                                           object properties.\n",
    "                                self parameter-->instance automatically passed into self parameter\n",
    "                                                so that new attributes can be defined on the object"
   ]
  },
  {
   "cell_type": "raw",
   "id": "6cf91648",
   "metadata": {},
   "source": [
    "A blueprint for a house design is like a class description.\n",
    "All the houses built from that blueprint are objects of that class. \n",
    "A given house is an instance."
   ]
  },
  {
   "cell_type": "markdown",
   "id": "a3f58216",
   "metadata": {},
   "source": [
    "class ==> collection of objects\n",
    " create a class by using keyword class\n",
    " attributes are the variables that belong to a class\n",
    " methods are functions in the class\n",
    " By default, attributes and methods are public"
   ]
  },
  {
   "cell_type": "code",
   "execution_count": 1,
   "id": "2e6df06b",
   "metadata": {},
   "outputs": [],
   "source": [
    "# create empty class\n",
    "class Plane:\n",
    "    pass "
   ]
  },
  {
   "cell_type": "code",
   "execution_count": 2,
   "id": "c8672331",
   "metadata": {},
   "outputs": [],
   "source": [
    "class Dog:\n",
    "    def __init__(self,name,age):\n",
    "        self.name=name       #instance attributes\n",
    "        self.age=age"
   ]
  },
  {
   "cell_type": "code",
   "execution_count": 3,
   "id": "39935abf",
   "metadata": {},
   "outputs": [
    {
     "data": {
      "text/plain": [
       "<__main__.Dog at 0x167dc45c940>"
      ]
     },
     "execution_count": 3,
     "metadata": {},
     "output_type": "execute_result"
    }
   ],
   "source": [
    "Dog('Dany',1)  # We cannot access instance attributes by using class name"
   ]
  },
  {
   "cell_type": "code",
   "execution_count": 4,
   "id": "a9817bd8",
   "metadata": {},
   "outputs": [],
   "source": [
    "# create object1\n",
    "Dog1=Dog('Dany',1)"
   ]
  },
  {
   "cell_type": "code",
   "execution_count": 5,
   "id": "db9555f2",
   "metadata": {},
   "outputs": [],
   "source": [
    "#create object2\n",
    "Dog2=Dog('Jack',2)"
   ]
  },
  {
   "cell_type": "code",
   "execution_count": 6,
   "id": "c9b24c07",
   "metadata": {},
   "outputs": [
    {
     "data": {
      "text/plain": [
       "'Dany'"
      ]
     },
     "execution_count": 6,
     "metadata": {},
     "output_type": "execute_result"
    }
   ],
   "source": [
    "# access instance attributes\n",
    "Dog1.name"
   ]
  },
  {
   "cell_type": "code",
   "execution_count": 8,
   "id": "cab76b9a",
   "metadata": {},
   "outputs": [
    {
     "data": {
      "text/plain": [
       "'Jack'"
      ]
     },
     "execution_count": 8,
     "metadata": {},
     "output_type": "execute_result"
    }
   ],
   "source": [
    "Dog2.name"
   ]
  },
  {
   "cell_type": "code",
   "execution_count": 9,
   "id": "30653744",
   "metadata": {},
   "outputs": [],
   "source": [
    "class Dog:\n",
    "    #class attributes\n",
    "    breed='Labrador'\n",
    "    def __init__(self,name,age):\n",
    "        self.name=name       #instance attributes\n",
    "        self.age=age"
   ]
  },
  {
   "cell_type": "code",
   "execution_count": 10,
   "id": "3fb1e1fe",
   "metadata": {},
   "outputs": [
    {
     "data": {
      "text/plain": [
       "'Labrador'"
      ]
     },
     "execution_count": 10,
     "metadata": {},
     "output_type": "execute_result"
    }
   ],
   "source": [
    "Dog.breed  # using class name can access class attributes"
   ]
  },
  {
   "cell_type": "code",
   "execution_count": 11,
   "id": "bb8953ca",
   "metadata": {},
   "outputs": [],
   "source": [
    "Dog3=Dog('Scooby',4)"
   ]
  },
  {
   "cell_type": "code",
   "execution_count": 12,
   "id": "d2483a1e",
   "metadata": {},
   "outputs": [
    {
     "data": {
      "text/plain": [
       "'Labrador'"
      ]
     },
     "execution_count": 12,
     "metadata": {},
     "output_type": "execute_result"
    }
   ],
   "source": [
    "Dog3.breed # using object name can access class attributes"
   ]
  },
  {
   "cell_type": "code",
   "execution_count": 13,
   "id": "493800de",
   "metadata": {},
   "outputs": [],
   "source": [
    "# methods\n",
    "class Dog:\n",
    "    #class attributes\n",
    "    breed='Labrador'\n",
    "    def __init__(self,name,age,color='black'):\n",
    "        self.name=name       #instance attributes\n",
    "        self.age=age\n",
    "        self.color=color\n",
    "    #instance method\n",
    "    def description(self):\n",
    "        print('name:',self.name,'age:',self.age,'color:',self.color)"
   ]
  },
  {
   "cell_type": "code",
   "execution_count": 14,
   "id": "37101d78",
   "metadata": {},
   "outputs": [],
   "source": [
    "#create object\n",
    "Dog5=Dog('Jimmy',1.5)"
   ]
  },
  {
   "cell_type": "code",
   "execution_count": 15,
   "id": "ba263ad7",
   "metadata": {},
   "outputs": [
    {
     "data": {
      "text/plain": [
       "'Labrador'"
      ]
     },
     "execution_count": 15,
     "metadata": {},
     "output_type": "execute_result"
    }
   ],
   "source": [
    "Dog5.breed"
   ]
  },
  {
   "cell_type": "code",
   "execution_count": 16,
   "id": "42c99af9",
   "metadata": {},
   "outputs": [
    {
     "data": {
      "text/plain": [
       "'Jimmy'"
      ]
     },
     "execution_count": 16,
     "metadata": {},
     "output_type": "execute_result"
    }
   ],
   "source": [
    "Dog5.name"
   ]
  },
  {
   "cell_type": "code",
   "execution_count": 17,
   "id": "be33561a",
   "metadata": {},
   "outputs": [
    {
     "data": {
      "text/plain": [
       "'black'"
      ]
     },
     "execution_count": 17,
     "metadata": {},
     "output_type": "execute_result"
    }
   ],
   "source": [
    "Dog5.color"
   ]
  },
  {
   "cell_type": "code",
   "execution_count": 18,
   "id": "a18cd9b4",
   "metadata": {},
   "outputs": [
    {
     "name": "stdout",
     "output_type": "stream",
     "text": [
      "name: Jimmy age: 1.5 color: black\n"
     ]
    }
   ],
   "source": [
    "Dog5.description()"
   ]
  },
  {
   "cell_type": "code",
   "execution_count": 19,
   "id": "08545268",
   "metadata": {},
   "outputs": [],
   "source": [
    "# create  a class 'car',class attribute=car_type,instance attributes: name,mileage, instance method\n",
    "class Car:\n",
    "    car_type='Petrol'\n",
    "    def __init__(self,name,mileage):\n",
    "        self.name=name\n",
    "        self.mileage=mileage\n",
    "    def description(self):\n",
    "        print(self.name,\"car gives the mileage of\", self.mileage,\"km/l\")\n",
    "    def max_speed(self,speed):\n",
    "        print(self.name,\"runs at the maximum speed of\",speed,\"km/hr\")"
   ]
  },
  {
   "cell_type": "code",
   "execution_count": 20,
   "id": "9a2a1f0b",
   "metadata": {},
   "outputs": [],
   "source": [
    "car1=Car(\"Honda\",24.1)"
   ]
  },
  {
   "cell_type": "code",
   "execution_count": 21,
   "id": "9af8d3fc",
   "metadata": {},
   "outputs": [
    {
     "data": {
      "text/plain": [
       "'Honda'"
      ]
     },
     "execution_count": 21,
     "metadata": {},
     "output_type": "execute_result"
    }
   ],
   "source": [
    "car1.name"
   ]
  },
  {
   "cell_type": "code",
   "execution_count": 22,
   "id": "334bec89",
   "metadata": {},
   "outputs": [
    {
     "data": {
      "text/plain": [
       "24.1"
      ]
     },
     "execution_count": 22,
     "metadata": {},
     "output_type": "execute_result"
    }
   ],
   "source": [
    "car1.mileage"
   ]
  },
  {
   "cell_type": "code",
   "execution_count": 23,
   "id": "101eb14d",
   "metadata": {},
   "outputs": [
    {
     "ename": "AttributeError",
     "evalue": "'Car' object has no attribute 'speed'",
     "output_type": "error",
     "traceback": [
      "\u001b[1;31m---------------------------------------------------------------------------\u001b[0m",
      "\u001b[1;31mAttributeError\u001b[0m                            Traceback (most recent call last)",
      "\u001b[1;32m~\\AppData\\Local\\Temp\\ipykernel_38908\\3000191106.py\u001b[0m in \u001b[0;36m<module>\u001b[1;34m\u001b[0m\n\u001b[1;32m----> 1\u001b[1;33m \u001b[0mcar1\u001b[0m\u001b[1;33m.\u001b[0m\u001b[0mspeed\u001b[0m\u001b[1;33m\u001b[0m\u001b[1;33m\u001b[0m\u001b[0m\n\u001b[0m",
      "\u001b[1;31mAttributeError\u001b[0m: 'Car' object has no attribute 'speed'"
     ]
    }
   ],
   "source": [
    "car1.speed"
   ]
  },
  {
   "cell_type": "code",
   "execution_count": 24,
   "id": "f8cedf51",
   "metadata": {},
   "outputs": [
    {
     "name": "stdout",
     "output_type": "stream",
     "text": [
      "Honda runs at the maximum speed of 150 km/hr\n"
     ]
    }
   ],
   "source": [
    "car1.max_speed(150)"
   ]
  },
  {
   "cell_type": "code",
   "execution_count": 25,
   "id": "fe087991",
   "metadata": {},
   "outputs": [
    {
     "name": "stdout",
     "output_type": "stream",
     "text": [
      "Honda car gives the mileage of 24.1 km/l\n"
     ]
    }
   ],
   "source": [
    "car1.description()"
   ]
  },
  {
   "attachments": {
    "inh-1.png": {
     "image/png": "[encoded data removed]"
    }
   },
   "cell_type": "markdown",
   "id": "b08f1b5c",
   "metadata": {},
   "source": [
    "## Inheritance --> \n",
    "        is the capability of one class to derive or inherit the properties from another class.\n",
    " - Parent class\n",
    "    \n",
    " - child class\n",
    "![inh-1.png](attachment:inh-1.png)"
   ]
  },
  {
   "cell_type": "code",
   "execution_count": 26,
   "id": "52227637",
   "metadata": {},
   "outputs": [],
   "source": [
    "class Car:   #parent class\n",
    "    def __init__(self,name,mileage):\n",
    "        self.name=name\n",
    "        self.mileage=mileage\n",
    "    def description(self):\n",
    "        print(self.name,\"car gives the mileage of\", self.mileage,\"km/l\")\n",
    "class Audi(Car):   # child class\n",
    "    def audi_desc(self):\n",
    "        print(\"This is the description method of class Audi\")"
   ]
  },
  {
   "cell_type": "code",
   "execution_count": 27,
   "id": "5af28125",
   "metadata": {},
   "outputs": [],
   "source": [
    "#create object\n",
    "obj1=Audi(\"Audi A8\",14)"
   ]
  },
  {
   "cell_type": "code",
   "execution_count": 28,
   "id": "0f48af7e",
   "metadata": {},
   "outputs": [
    {
     "data": {
      "text/plain": [
       "'Audi A8'"
      ]
     },
     "execution_count": 28,
     "metadata": {},
     "output_type": "execute_result"
    }
   ],
   "source": [
    "obj1.name"
   ]
  },
  {
   "cell_type": "code",
   "execution_count": 29,
   "id": "76391d37",
   "metadata": {},
   "outputs": [
    {
     "name": "stdout",
     "output_type": "stream",
     "text": [
      "Audi A8 car gives the mileage of 14 km/l\n"
     ]
    }
   ],
   "source": [
    "obj1.description()"
   ]
  },
  {
   "cell_type": "code",
   "execution_count": 30,
   "id": "d7f42889",
   "metadata": {},
   "outputs": [
    {
     "name": "stdout",
     "output_type": "stream",
     "text": [
      "This is the description method of class Audi\n"
     ]
    }
   ],
   "source": [
    "obj1.audi_desc()"
   ]
  },
  {
   "attachments": {
    "inh2.png": {
     "image/png": "[encoded data removed]"
    }
   },
   "cell_type": "markdown",
   "id": "276aa5ea",
   "metadata": {},
   "source": [
    "##### Python Multi-Level inheritance\n",
    "Multi-Level inheritance is possible in python like other object-oriented languages. Multi-level inheritance is archived when a derived class inherits another derived class. There is no limit on the number of levels up to which, the multi-level inheritance is archived in python.\n",
    "![inh2.png](attachment:inh2.png)"
   ]
  },
  {
   "cell_type": "code",
   "execution_count": 32,
   "id": "1743178c",
   "metadata": {},
   "outputs": [],
   "source": [
    "class Animal:            #parent class\n",
    "    def speak(self):\n",
    "        print(\"animal speaking\")\n",
    "class Dog(Animal):      #child class for Animal\n",
    "    def bark(self):\n",
    "        print('dog is barking')\n",
    "class Dogchild(Dog):    #child class for Dog\n",
    "    def eat(self):\n",
    "        print(\"Eating bread...\")\n",
    "    "
   ]
  },
  {
   "cell_type": "code",
   "execution_count": 33,
   "id": "abb73f2e",
   "metadata": {},
   "outputs": [],
   "source": [
    "d=Dogchild()"
   ]
  },
  {
   "cell_type": "code",
   "execution_count": 34,
   "id": "9a72218b",
   "metadata": {},
   "outputs": [
    {
     "name": "stdout",
     "output_type": "stream",
     "text": [
      "dog is barking\n"
     ]
    }
   ],
   "source": [
    "d.bark()"
   ]
  },
  {
   "cell_type": "code",
   "execution_count": 35,
   "id": "9343c25e",
   "metadata": {},
   "outputs": [
    {
     "name": "stdout",
     "output_type": "stream",
     "text": [
      "animal speaking\n"
     ]
    }
   ],
   "source": [
    "d.speak()"
   ]
  },
  {
   "attachments": {
    "inh3.png": {
     "image/png": "[encoded data removed]"
    }
   },
   "cell_type": "markdown",
   "id": "83db9eff",
   "metadata": {},
   "source": [
    "#### Python Multiple inheritance\n",
    "\n",
    "Python provides us the flexibility to inherit multiple base classes in the child class.\n",
    "![inh3.png](attachment:inh3.png)"
   ]
  },
  {
   "cell_type": "code",
   "execution_count": 36,
   "id": "2d5ddc94",
   "metadata": {},
   "outputs": [],
   "source": [
    "class Calculation1:   #parent class 1\n",
    "    def summation(self,a,b):\n",
    "        return a+b\n",
    "class Calculation2:   #parent class 2\n",
    "    def multiplication(self,a,b):\n",
    "        return a*b\n",
    "class Derived(Calculation1, Calculation2):   # child class\n",
    "    def Divide(self,a,b):\n",
    "        return a/b\n",
    "    "
   ]
  },
  {
   "cell_type": "code",
   "execution_count": 37,
   "id": "6471ae66",
   "metadata": {},
   "outputs": [],
   "source": [
    "D1=Derived()"
   ]
  },
  {
   "cell_type": "code",
   "execution_count": 38,
   "id": "dc8bfcca",
   "metadata": {},
   "outputs": [
    {
     "data": {
      "text/plain": [
       "22"
      ]
     },
     "execution_count": 38,
     "metadata": {},
     "output_type": "execute_result"
    }
   ],
   "source": [
    "D1.summation(20,2)"
   ]
  },
  {
   "cell_type": "code",
   "execution_count": 40,
   "id": "01aa3269",
   "metadata": {},
   "outputs": [],
   "source": [
    "#create object\n",
    "D=Derived()"
   ]
  },
  {
   "cell_type": "code",
   "execution_count": 41,
   "id": "323454ca",
   "metadata": {},
   "outputs": [
    {
     "data": {
      "text/plain": [
       "2.0"
      ]
     },
     "execution_count": 41,
     "metadata": {},
     "output_type": "execute_result"
    }
   ],
   "source": [
    "D.Divide(20,10)"
   ]
  },
  {
   "cell_type": "code",
   "execution_count": 42,
   "id": "3cc33647",
   "metadata": {},
   "outputs": [
    {
     "data": {
      "text/plain": [
       "30"
      ]
     },
     "execution_count": 42,
     "metadata": {},
     "output_type": "execute_result"
    }
   ],
   "source": [
    "D.summation(20,10)"
   ]
  },
  {
   "cell_type": "code",
   "execution_count": 43,
   "id": "97b26aa2",
   "metadata": {},
   "outputs": [
    {
     "data": {
      "text/plain": [
       "40"
      ]
     },
     "execution_count": 43,
     "metadata": {},
     "output_type": "execute_result"
    }
   ],
   "source": [
    "D.multiplication(20,2)"
   ]
  },
  {
   "attachments": {
    "poly.png": {
     "image/png": "[encoded data removed]"
    }
   },
   "cell_type": "markdown",
   "id": "fb289926",
   "metadata": {},
   "source": [
    "#### Polymorphism --> Having many forms\n",
    "Polymorphism in python defines methods in the child class that have the same name as the methods in the parent class\n",
    "![poly.png](attachment:poly.png)"
   ]
  },
  {
   "cell_type": "code",
   "execution_count": 44,
   "id": "ca53fb4f",
   "metadata": {},
   "outputs": [],
   "source": [
    "class Bird:              #parent class\n",
    "    def intro(self):\n",
    "        print(\"There are many types of birds\")\n",
    "    def flight(self):\n",
    "        print(\"Most of the birds can fly but some cannot\")\n",
    "class Sparrow(Bird):     #child class\n",
    "    def flight(self):\n",
    "        print(\"Sparrow can fly\")\n",
    "class Ostrich(Bird):    #child class\n",
    "    def flight(self): \n",
    "        print(\"Ostrich cannot fly\")"
   ]
  },
  {
   "cell_type": "code",
   "execution_count": 45,
   "id": "cc1a710b",
   "metadata": {},
   "outputs": [],
   "source": [
    "obj_Bird=Bird()\n",
    "obj_s=Sparrow()\n",
    "obj_o=Ostrich()"
   ]
  },
  {
   "cell_type": "code",
   "execution_count": 46,
   "id": "25852967",
   "metadata": {},
   "outputs": [
    {
     "name": "stdout",
     "output_type": "stream",
     "text": [
      "Sparrow can fly\n"
     ]
    }
   ],
   "source": [
    "obj_s.flight()"
   ]
  },
  {
   "cell_type": "code",
   "execution_count": 47,
   "id": "7eb8bd5e",
   "metadata": {},
   "outputs": [
    {
     "name": "stdout",
     "output_type": "stream",
     "text": [
      "Ostrich cannot fly\n"
     ]
    }
   ],
   "source": [
    "obj_o.flight()"
   ]
  },
  {
   "attachments": {
    "encap.png": {
     "image/png": "[encoded data removed]"
    }
   },
   "cell_type": "markdown",
   "id": "0e4416f9",
   "metadata": {},
   "source": [
    "#### Encapsulation\n",
    "\n",
    "Encapsulation is one of the most fundamental concepts in object-oriented programming (OOP). This is the concept of wrapping data and methods that work with data in one unit. This prevents data modification accidentally by limiting access to variables and methods. An object's method can change a variable's value to prevent accidental changes. These variables are called private variables.\n",
    "![encap.png](attachment:encap.png)"
   ]
  },
  {
   "cell_type": "code",
   "execution_count": null,
   "id": "02405ac8",
   "metadata": {},
   "outputs": [],
   "source": [
    "## Python uses _/__ to make attributes/methods as protected/private attributes/method"
   ]
  },
  {
   "cell_type": "code",
   "execution_count": 48,
   "id": "a7e3d41d",
   "metadata": {},
   "outputs": [
    {
     "name": "stdout",
     "output_type": "stream",
     "text": [
      "['__add__', '__class__', '__class_getitem__', '__contains__', '__delattr__', '__delitem__', '__dir__', '__doc__', '__eq__', '__format__', '__ge__', '__getattribute__', '__getitem__', '__gt__', '__hash__', '__iadd__', '__imul__', '__init__', '__init_subclass__', '__iter__', '__le__', '__len__', '__lt__', '__mul__', '__ne__', '__new__', '__reduce__', '__reduce_ex__', '__repr__', '__reversed__', '__rmul__', '__setattr__', '__setitem__', '__sizeof__', '__str__', '__subclasshook__', 'append', 'clear', 'copy', 'count', 'extend', 'index', 'insert', 'pop', 'remove', 'reverse', 'sort']\n"
     ]
    }
   ],
   "source": [
    "l=[1,2,34,5,6]\n",
    "print(dir(l))"
   ]
  },
  {
   "cell_type": "code",
   "execution_count": 49,
   "id": "0aaea053",
   "metadata": {},
   "outputs": [],
   "source": [
    "class Car:\n",
    "    def __init__(self,name,mileage):\n",
    "        self._name=name #protected attribute\n",
    "        self.mileage=mileage\n",
    "    def description(self):\n",
    "        print(self._name,'car gives the mileage of',self.mileage,'km/l')"
   ]
  },
  {
   "cell_type": "code",
   "execution_count": 50,
   "id": "05ad29e6",
   "metadata": {},
   "outputs": [],
   "source": [
    "obj=Car('BMW-4',28)"
   ]
  },
  {
   "cell_type": "code",
   "execution_count": 51,
   "id": "c615d006",
   "metadata": {},
   "outputs": [
    {
     "data": {
      "text/plain": [
       "'BMW-4'"
      ]
     },
     "execution_count": 51,
     "metadata": {},
     "output_type": "execute_result"
    }
   ],
   "source": [
    "obj._name"
   ]
  },
  {
   "cell_type": "code",
   "execution_count": 52,
   "id": "b0d0745b",
   "metadata": {},
   "outputs": [],
   "source": [
    "#private variable\n",
    "class Car1:\n",
    "    def __init__(self,name,mileage):\n",
    "        self.__name=name #private variable\n",
    "        self.mileage=mileage\n",
    "    def description(self):\n",
    "        print(self.__name,'car gives the mileage of',self.mileage,'km/l')"
   ]
  },
  {
   "cell_type": "code",
   "execution_count": 53,
   "id": "f114002f",
   "metadata": {},
   "outputs": [],
   "source": [
    "obj1=Car1(\"Audi\",18)"
   ]
  },
  {
   "cell_type": "code",
   "execution_count": 54,
   "id": "0afb958c",
   "metadata": {},
   "outputs": [
    {
     "ename": "AttributeError",
     "evalue": "'Car1' object has no attribute '__name'",
     "output_type": "error",
     "traceback": [
      "\u001b[1;31m---------------------------------------------------------------------------\u001b[0m",
      "\u001b[1;31mAttributeError\u001b[0m                            Traceback (most recent call last)",
      "\u001b[1;32m~\\AppData\\Local\\Temp\\ipykernel_38908\\2136428802.py\u001b[0m in \u001b[0;36m<module>\u001b[1;34m\u001b[0m\n\u001b[1;32m----> 1\u001b[1;33m \u001b[0mobj1\u001b[0m\u001b[1;33m.\u001b[0m\u001b[0m__name\u001b[0m\u001b[1;33m\u001b[0m\u001b[1;33m\u001b[0m\u001b[0m\n\u001b[0m",
      "\u001b[1;31mAttributeError\u001b[0m: 'Car1' object has no attribute '__name'"
     ]
    }
   ],
   "source": [
    "obj1.__name"
   ]
  },
  {
   "cell_type": "code",
   "execution_count": 55,
   "id": "7b07b328",
   "metadata": {},
   "outputs": [
    {
     "name": "stdout",
     "output_type": "stream",
     "text": [
      "Audi car gives the mileage of 18 km/l\n"
     ]
    }
   ],
   "source": [
    "obj1.description()"
   ]
  },
  {
   "attachments": {
    "abst.png": {
     "image/png": "[encoded data removed]"
    }
   },
   "cell_type": "markdown",
   "id": "40275f79",
   "metadata": {},
   "source": [
    "#### Abstraction\n",
    "\n",
    "Abstraction is used to hide the internal functionality of the function from the users. The users only interact with the basic implementation of the function, but inner working is hidden. User is familiar with that \"what function does\" but they don't know \"how it does.\"\n",
    "![abst.png](attachment:abst.png)"
   ]
  },
  {
   "cell_type": "code",
   "execution_count": 56,
   "id": "e71cce98",
   "metadata": {},
   "outputs": [],
   "source": [
    "from abc import ABC,abstractmethod\n",
    "## ABC-> Abstract Base Class\n",
    "class Car(ABC):\n",
    "    def __init__(self,name):\n",
    "        self.name=name\n",
    "    def description(self):\n",
    "        print(\"This is the description of a class Car\")\n",
    "    \n",
    "    @abstractmethod\n",
    "    def price(self,x):\n",
    "        pass\n",
    "class new(Car):\n",
    "    def price(self,x):\n",
    "        print(self.name,\"price is\",x,\"lakhs\")"
   ]
  },
  {
   "cell_type": "code",
   "execution_count": 57,
   "id": "2c5c46e3",
   "metadata": {},
   "outputs": [
    {
     "name": "stdout",
     "output_type": "stream",
     "text": [
      "This is the description of a class Car\n"
     ]
    }
   ],
   "source": [
    "obj3=new(\"Honda City\")\n",
    "obj3.description()"
   ]
  },
  {
   "cell_type": "code",
   "execution_count": null,
   "id": "52cc6ec6",
   "metadata": {},
   "outputs": [],
   "source": [
    "obj3.price(34)"
   ]
  },
  {
   "cell_type": "code",
   "execution_count": null,
   "id": "029d0163",
   "metadata": {},
   "outputs": [],
   "source": []
  }
 ],
 "metadata": {
  "kernelspec": {
   "display_name": "Python 3 (ipykernel)",
   "language": "python",
   "name": "python3"
  },
  "language_info": {
   "codemirror_mode": {
    "name": "ipython",
    "version": 3
   },
   "file_extension": ".py",
   "mimetype": "text/x-python",
   "name": "python",
   "nbconvert_exporter": "python",
   "pygments_lexer": "ipython3",
   "version": "3.9.13"
  }
 },
 "nbformat": 4,
 "nbformat_minor": 5
}
