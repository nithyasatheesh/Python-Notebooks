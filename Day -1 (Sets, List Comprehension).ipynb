{
 "cells": [
  {
   "cell_type": "markdown",
   "id": "10a792a2",
   "metadata": {},
   "source": [
    "### Sets\n",
    "\n",
    "- Unordered sequence of elements\n",
    "- create it by using {} or set()\n",
    "- sets are immutable, iterable"
   ]
  },
  {
   "cell_type": "code",
   "execution_count": 1,
   "id": "45daf02b",
   "metadata": {},
   "outputs": [
    {
     "data": {
      "text/plain": [
       "set"
      ]
     },
     "execution_count": 1,
     "metadata": {},
     "output_type": "execute_result"
    }
   ],
   "source": [
    "#create empty set\n",
    "s=set()\n",
    "type(s)"
   ]
  },
  {
   "cell_type": "code",
   "execution_count": 2,
   "id": "c9d3d428",
   "metadata": {},
   "outputs": [
    {
     "data": {
      "text/plain": [
       "{'Monday', 'Tuesday', 'Wednesday'}"
      ]
     },
     "execution_count": 2,
     "metadata": {},
     "output_type": "execute_result"
    }
   ],
   "source": [
    "# create set object of string values\n",
    "s1={'Monday','Tuesday','Wednesday'}\n",
    "s1"
   ]
  },
  {
   "cell_type": "code",
   "execution_count": 3,
   "id": "55558d1c",
   "metadata": {},
   "outputs": [
    {
     "data": {
      "text/plain": [
       "{345, 'Feb', 'Jan'}"
      ]
     },
     "execution_count": 3,
     "metadata": {},
     "output_type": "execute_result"
    }
   ],
   "source": [
    "# create set object of list values\n",
    "s2=set(['Jan','Feb',345])\n",
    "s2"
   ]
  },
  {
   "cell_type": "code",
   "execution_count": 4,
   "id": "7dd31f3c",
   "metadata": {},
   "outputs": [
    {
     "data": {
      "text/plain": [
       "{'Feb', 'Jan', 'Mar'}"
      ]
     },
     "execution_count": 4,
     "metadata": {},
     "output_type": "execute_result"
    }
   ],
   "source": [
    "# removes duplicates\n",
    "s3={'Jan','Feb','Feb','Mar','Mar'}\n",
    "s3"
   ]
  },
  {
   "cell_type": "code",
   "execution_count": 5,
   "id": "deddbc91",
   "metadata": {},
   "outputs": [
    {
     "name": "stdout",
     "output_type": "stream",
     "text": [
      "['__and__', '__class__', '__class_getitem__', '__contains__', '__delattr__', '__dir__', '__doc__', '__eq__', '__format__', '__ge__', '__getattribute__', '__gt__', '__hash__', '__iand__', '__init__', '__init_subclass__', '__ior__', '__isub__', '__iter__', '__ixor__', '__le__', '__len__', '__lt__', '__ne__', '__new__', '__or__', '__rand__', '__reduce__', '__reduce_ex__', '__repr__', '__ror__', '__rsub__', '__rxor__', '__setattr__', '__sizeof__', '__str__', '__sub__', '__subclasshook__', '__xor__', 'add', 'clear', 'copy', 'difference', 'difference_update', 'discard', 'intersection', 'intersection_update', 'isdisjoint', 'issubset', 'issuperset', 'pop', 'remove', 'symmetric_difference', 'symmetric_difference_update', 'union', 'update']\n"
     ]
    }
   ],
   "source": [
    "print(dir(s3))"
   ]
  },
  {
   "cell_type": "code",
   "execution_count": 6,
   "id": "116f410d",
   "metadata": {},
   "outputs": [
    {
     "data": {
      "text/plain": [
       "{345, 'Feb', 'Friday', 'Jan'}"
      ]
     },
     "execution_count": 6,
     "metadata": {},
     "output_type": "execute_result"
    }
   ],
   "source": [
    "## add() method\n",
    "# add element in s2\n",
    "s2.add(\"Friday\")\n",
    "s2"
   ]
  },
  {
   "cell_type": "code",
   "execution_count": 7,
   "id": "7bc607bd",
   "metadata": {},
   "outputs": [
    {
     "data": {
      "text/plain": [
       "{345, 'Dec', 'Feb', 'Friday', 'Jan', 'Thurs'}"
      ]
     },
     "execution_count": 7,
     "metadata": {},
     "output_type": "execute_result"
    }
   ],
   "source": [
    "# update() method\n",
    "s2.update(['Thurs','Dec'])\n",
    "s2"
   ]
  },
  {
   "cell_type": "markdown",
   "id": "5ad5c013",
   "metadata": {},
   "source": [
    "#### remove the elements\n",
    "- remove()\n",
    "- pop()\n",
    "- discard()"
   ]
  },
  {
   "cell_type": "code",
   "execution_count": 8,
   "id": "ae6d496a",
   "metadata": {},
   "outputs": [],
   "source": [
    "s2.remove(345)"
   ]
  },
  {
   "cell_type": "code",
   "execution_count": 9,
   "id": "ad4f5d52",
   "metadata": {},
   "outputs": [
    {
     "data": {
      "text/plain": [
       "{'Dec', 'Feb', 'Friday', 'Jan', 'Thurs'}"
      ]
     },
     "execution_count": 9,
     "metadata": {},
     "output_type": "execute_result"
    }
   ],
   "source": [
    "s2"
   ]
  },
  {
   "cell_type": "code",
   "execution_count": 11,
   "id": "8e6d348e",
   "metadata": {},
   "outputs": [
    {
     "data": {
      "text/plain": [
       "'Feb'"
      ]
     },
     "execution_count": 11,
     "metadata": {},
     "output_type": "execute_result"
    }
   ],
   "source": [
    "s2.pop()"
   ]
  },
  {
   "cell_type": "code",
   "execution_count": 12,
   "id": "ff868d01",
   "metadata": {},
   "outputs": [
    {
     "data": {
      "text/plain": [
       "{'Dec', 'Friday', 'Jan'}"
      ]
     },
     "execution_count": 12,
     "metadata": {},
     "output_type": "execute_result"
    }
   ],
   "source": [
    "s2"
   ]
  },
  {
   "cell_type": "code",
   "execution_count": 13,
   "id": "bc811ba3",
   "metadata": {},
   "outputs": [],
   "source": [
    "s2.discard('Feb')"
   ]
  },
  {
   "cell_type": "code",
   "execution_count": 14,
   "id": "56b65d62",
   "metadata": {},
   "outputs": [
    {
     "ename": "KeyError",
     "evalue": "'Feb'",
     "output_type": "error",
     "traceback": [
      "\u001b[1;31m---------------------------------------------------------------------------\u001b[0m",
      "\u001b[1;31mKeyError\u001b[0m                                  Traceback (most recent call last)",
      "\u001b[1;32m~\\AppData\\Local\\Temp\\ipykernel_31452\\2429565149.py\u001b[0m in \u001b[0;36m<module>\u001b[1;34m\u001b[0m\n\u001b[1;32m----> 1\u001b[1;33m \u001b[0ms2\u001b[0m\u001b[1;33m.\u001b[0m\u001b[0mremove\u001b[0m\u001b[1;33m(\u001b[0m\u001b[1;34m'Feb'\u001b[0m\u001b[1;33m)\u001b[0m\u001b[1;33m\u001b[0m\u001b[1;33m\u001b[0m\u001b[0m\n\u001b[0m",
      "\u001b[1;31mKeyError\u001b[0m: 'Feb'"
     ]
    }
   ],
   "source": [
    "s2.remove('Feb')"
   ]
  },
  {
   "cell_type": "code",
   "execution_count": null,
   "id": "3c228a7a",
   "metadata": {},
   "outputs": [],
   "source": [
    "Difference : remove() and discard():discard() method remain unchanged if the element doen't exist\n",
    "                                   remove() method will throw an error if the element doesn't exist"
   ]
  },
  {
   "cell_type": "markdown",
   "id": "790ed57d",
   "metadata": {},
   "source": [
    "### List Comprehension\n",
    "\n",
    "- single line for loop\n",
    "\n",
    "- syntax: [expresion for if(optional)]"
   ]
  },
  {
   "cell_type": "code",
   "execution_count": 15,
   "id": "0e0cb6ed",
   "metadata": {},
   "outputs": [
    {
     "data": {
      "text/plain": [
       "[1, 4, 9]"
      ]
     },
     "execution_count": 15,
     "metadata": {},
     "output_type": "execute_result"
    }
   ],
   "source": [
    "# list of square of elements\n",
    "l=[1,2,3]\n",
    "[i**2 for i in l]"
   ]
  },
  {
   "cell_type": "code",
   "execution_count": 16,
   "id": "7da75d4f",
   "metadata": {},
   "outputs": [
    {
     "data": {
      "text/plain": [
       "['Bangalore', 'Hyderabad']"
      ]
     },
     "execution_count": 16,
     "metadata": {},
     "output_type": "execute_result"
    }
   ],
   "source": [
    "cities=['Delhi','Bangalore','Mumbai','Hyderabad']\n",
    "# create a list of elements which has length is greater than 6\n",
    "[x for x in cities if len(x)>6]"
   ]
  },
  {
   "cell_type": "code",
   "execution_count": 17,
   "id": "7b9588b4",
   "metadata": {},
   "outputs": [
    {
     "data": {
      "text/plain": [
       "[7, 8, 9, 23, 56]"
      ]
     },
     "execution_count": 17,
     "metadata": {},
     "output_type": "execute_result"
    }
   ],
   "source": [
    "# create a list of elements which is greater than 5 in the given list l\n",
    "l=[4,7,8,9,23,56]\n",
    "[x for x in l if x>5]"
   ]
  },
  {
   "cell_type": "code",
   "execution_count": 18,
   "id": "847aede5",
   "metadata": {},
   "outputs": [
    {
     "data": {
      "text/plain": [
       "[9, 12, 13, 14, 28, 61]"
      ]
     },
     "execution_count": 18,
     "metadata": {},
     "output_type": "execute_result"
    }
   ],
   "source": [
    "# add value 5 to each element in the list l\n",
    "[x+5 for x in l]"
   ]
  },
  {
   "cell_type": "markdown",
   "id": "881ba714",
   "metadata": {},
   "source": [
    "### Hands-on-Problems"
   ]
  },
  {
   "cell_type": "code",
   "execution_count": 19,
   "id": "22057a3c",
   "metadata": {},
   "outputs": [],
   "source": [
    "#Given a list of numbers, remove all odd numbers from the list:\n",
    "numbers = [3,5,45,97,32,22,10,19,39,43]"
   ]
  },
  {
   "cell_type": "code",
   "execution_count": 20,
   "id": "00bba158",
   "metadata": {},
   "outputs": [],
   "source": [
    "#Given a list of numbers, remove floats (numbers with decimals)\n",
    "original_list = [2,3.75,.04,59.354,6,7.7777,8,9]"
   ]
  },
  {
   "cell_type": "code",
   "execution_count": null,
   "id": "164b0970",
   "metadata": {},
   "outputs": [],
   "source": [
    "'''Create a list from the elements of a range from 1200 to 2000 with steps of 130,\n",
    "using list comprehension.''"
   ]
  },
  {
   "cell_type": "code",
   "execution_count": null,
   "id": "add9fbb9",
   "metadata": {},
   "outputs": [],
   "source": [
    "#Using list comprehension, construct a list from the squares of each element in the list, \n",
    "#if the square is greater than 50."
   ]
  },
  {
   "cell_type": "markdown",
   "id": "536c57ca",
   "metadata": {},
   "source": [
    "Given dictionary is consisted of vehicles and their weights in kilograms. Contruct a list of the names of vehicles with weight below 5000 kilograms. In the same list comprehension make the key names all upper case.\n",
    "\n",
    "d={\"veh1\":1000,\"veh2\":3000,\"veh3\":5000,\"veh4\":6000}"
   ]
  },
  {
   "cell_type": "code",
   "execution_count": null,
   "id": "bc92b241",
   "metadata": {},
   "outputs": [],
   "source": []
  },
  {
   "cell_type": "code",
   "execution_count": 21,
   "id": "5d247c56",
   "metadata": {},
   "outputs": [
    {
     "data": {
      "text/plain": [
       "[32, 22, 10]"
      ]
     },
     "execution_count": 21,
     "metadata": {},
     "output_type": "execute_result"
    }
   ],
   "source": [
    "[x for x in numbers if x%2==0]"
   ]
  },
  {
   "cell_type": "code",
   "execution_count": 22,
   "id": "fe765396",
   "metadata": {},
   "outputs": [
    {
     "data": {
      "text/plain": [
       "[2, 6, 8, 9]"
      ]
     },
     "execution_count": 22,
     "metadata": {},
     "output_type": "execute_result"
    }
   ],
   "source": [
    "#[i for i in original_list if type(i)==int]\n",
    "[i for i in original_list if type(i)!=float]"
   ]
  },
  {
   "cell_type": "code",
   "execution_count": 23,
   "id": "73665915",
   "metadata": {},
   "outputs": [
    {
     "data": {
      "text/plain": [
       "[1200, 1330, 1460, 1590, 1720, 1850, 1980]"
      ]
     },
     "execution_count": 23,
     "metadata": {},
     "output_type": "execute_result"
    }
   ],
   "source": [
    "[x for x in range(1200,2001,130)]"
   ]
  },
  {
   "cell_type": "code",
   "execution_count": 24,
   "id": "267923dd",
   "metadata": {},
   "outputs": [
    {
     "data": {
      "text/plain": [
       "[64, 81, 100, 121]"
      ]
     },
     "execution_count": 24,
     "metadata": {},
     "output_type": "execute_result"
    }
   ],
   "source": [
    "list_1=[6,7,8,9,10,11]\n",
    "[i**2 for i in list_1 if i**2>50]"
   ]
  },
  {
   "cell_type": "code",
   "execution_count": 25,
   "id": "421bea9a",
   "metadata": {},
   "outputs": [
    {
     "data": {
      "text/plain": [
       "['VEH1', 'VEH2']"
      ]
     },
     "execution_count": 25,
     "metadata": {},
     "output_type": "execute_result"
    }
   ],
   "source": [
    "d={\"veh1\":1000,\"veh2\":3000,\"veh3\":5000,\"veh4\":6000}\n",
    "[k.upper() for k in d if d[k]<5000]"
   ]
  }
 ],
 "metadata": {
  "kernelspec": {
   "display_name": "Python 3 (ipykernel)",
   "language": "python",
   "name": "python3"
  },
  "language_info": {
   "codemirror_mode": {
    "name": "ipython",
    "version": 3
   },
   "file_extension": ".py",
   "mimetype": "text/x-python",
   "name": "python",
   "nbconvert_exporter": "python",
   "pygments_lexer": "ipython3",
   "version": "3.9.13"
  }
 },
 "nbformat": 4,
 "nbformat_minor": 5
}
