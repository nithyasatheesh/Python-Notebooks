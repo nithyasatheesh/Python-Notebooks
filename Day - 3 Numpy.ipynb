{
 "cells": [
  {
   "cell_type": "markdown",
   "id": "5eb933b5",
   "metadata": {},
   "source": [
    "#### NumPy\n",
    "\n",
    "NumPy stands for Numerical Python\n",
    " \n",
    " A Python library that provides support for large, multi-dimensional arrays and matrices, along with a large collection of high-level mathematical functions to operate on these arrays\n",
    "\n",
    "Why NumPy?\n",
    "\n",
    "NumPy aims to provide an array object that is up to 50x faster than traditional Python lists\n",
    "The array object in NumPy is called ndarray; it provides a lot of supporting functions that make working with ndarray very easy\n",
    "NumPy arrays are stored at one continuous place in memory unlike lists, so processes can access and manipulate them very efficiently which is the main reason why the former is faster than the latter"
   ]
  },
  {
   "cell_type": "code",
   "execution_count": null,
   "id": "c097a6db",
   "metadata": {},
   "outputs": [],
   "source": [
    "# to install third party package\n",
    "# !pip install packagename\n",
    "#!conda install packagename"
   ]
  },
  {
   "cell_type": "markdown",
   "id": "11d6d24e",
   "metadata": {},
   "source": [
    "- creation of numpy array object\n",
    "- array operations\n",
    "- array methods"
   ]
  },
  {
   "cell_type": "code",
   "execution_count": null,
   "id": "dfcc0b21",
   "metadata": {},
   "outputs": [],
   "source": [
    "#load package\n"
   ]
  },
  {
   "cell_type": "code",
   "execution_count": null,
   "id": "0379c145",
   "metadata": {},
   "outputs": [],
   "source": [
    "# creating an array of integers using array() method\n",
    "\n"
   ]
  },
  {
   "cell_type": "code",
   "execution_count": null,
   "id": "722dd74b",
   "metadata": {},
   "outputs": [],
   "source": [
    "#np.zeros(), np.ones()\n"
   ]
  },
  {
   "cell_type": "code",
   "execution_count": null,
   "id": "d9a0e368",
   "metadata": {},
   "outputs": [],
   "source": []
  },
  {
   "cell_type": "code",
   "execution_count": null,
   "id": "f27fba94",
   "metadata": {},
   "outputs": [],
   "source": [
    "#arange()\n"
   ]
  },
  {
   "cell_type": "code",
   "execution_count": null,
   "id": "56461d57",
   "metadata": {},
   "outputs": [],
   "source": [
    "                            #np.arange(start,stop, step)"
   ]
  },
  {
   "cell_type": "code",
   "execution_count": null,
   "id": "15090125",
   "metadata": {},
   "outputs": [],
   "source": []
  },
  {
   "cell_type": "code",
   "execution_count": null,
   "id": "42571c66",
   "metadata": {},
   "outputs": [],
   "source": []
  },
  {
   "cell_type": "markdown",
   "id": "bbe92664",
   "metadata": {},
   "source": [
    "#### Dimensions in Arrays"
   ]
  },
  {
   "cell_type": "code",
   "execution_count": null,
   "id": "1c312977",
   "metadata": {},
   "outputs": [],
   "source": [
    "#check dimension (ndim)\n"
   ]
  },
  {
   "cell_type": "code",
   "execution_count": null,
   "id": "a71051f7",
   "metadata": {},
   "outputs": [],
   "source": [
    "# 3 dimensional\n",
    "g=np.array([[[1,2,3],[4,5,6]],[[11,12,13],[14,15,16]]])\n",
    "g"
   ]
  },
  {
   "cell_type": "code",
   "execution_count": null,
   "id": "42250b2e",
   "metadata": {},
   "outputs": [],
   "source": []
  },
  {
   "cell_type": "markdown",
   "id": "5c61a348",
   "metadata": {},
   "source": [
    "#### indexing and slicing"
   ]
  },
  {
   "cell_type": "code",
   "execution_count": null,
   "id": "4ba06b16",
   "metadata": {},
   "outputs": [],
   "source": [
    "one=np.array([56,78,90,54,2,34,12])\n",
    "one"
   ]
  },
  {
   "cell_type": "code",
   "execution_count": null,
   "id": "7125519d",
   "metadata": {},
   "outputs": [],
   "source": [
    "# extract 54\n"
   ]
  },
  {
   "cell_type": "code",
   "execution_count": null,
   "id": "465f0926",
   "metadata": {},
   "outputs": [],
   "source": []
  },
  {
   "cell_type": "code",
   "execution_count": null,
   "id": "5e45b304",
   "metadata": {},
   "outputs": [],
   "source": [
    "two=np.array([[1,2,3,4,5],[6,7,8,9,0]])\n",
    "two"
   ]
  },
  {
   "cell_type": "code",
   "execution_count": null,
   "id": "4b7cc006",
   "metadata": {},
   "outputs": [],
   "source": [
    "# extract 7\n"
   ]
  },
  {
   "cell_type": "code",
   "execution_count": null,
   "id": "32da3857",
   "metadata": {},
   "outputs": [],
   "source": []
  },
  {
   "cell_type": "code",
   "execution_count": null,
   "id": "ad2f560e",
   "metadata": {},
   "outputs": [],
   "source": [
    "#extract 7,8,9\n"
   ]
  },
  {
   "cell_type": "code",
   "execution_count": null,
   "id": "704bbd5f",
   "metadata": {},
   "outputs": [],
   "source": [
    "# create an array object with datatype int elements\n"
   ]
  },
  {
   "cell_type": "code",
   "execution_count": null,
   "id": "14c28d16",
   "metadata": {},
   "outputs": [],
   "source": [
    "# check datatype of elements in the array object\n"
   ]
  },
  {
   "cell_type": "code",
   "execution_count": null,
   "id": "03d71e7f",
   "metadata": {},
   "outputs": [],
   "source": [
    "# converting data type on existing array object \n",
    "arr3=np.array([1.1,2.1,3.1,4.1])\n",
    "arr3"
   ]
  },
  {
   "cell_type": "code",
   "execution_count": null,
   "id": "8c835c07",
   "metadata": {},
   "outputs": [],
   "source": [
    "                            # astype() method make a copy of the given array object"
   ]
  },
  {
   "cell_type": "code",
   "execution_count": null,
   "id": "c853cfbf",
   "metadata": {},
   "outputs": [],
   "source": []
  },
  {
   "cell_type": "markdown",
   "id": "67289034",
   "metadata": {},
   "source": [
    "#### shape of an array object\n",
    "\n",
    "- number of elements in each dimension"
   ]
  },
  {
   "cell_type": "code",
   "execution_count": null,
   "id": "d3a90674",
   "metadata": {},
   "outputs": [],
   "source": [
    "# shape \n",
    "arr4=np.array([[1,23,34,5],[9,8,7,6]])\n"
   ]
  },
  {
   "cell_type": "code",
   "execution_count": null,
   "id": "54699f78",
   "metadata": {},
   "outputs": [],
   "source": [
    "#### reshaping array objects\n",
    "# change the shape of an array object"
   ]
  },
  {
   "cell_type": "code",
   "execution_count": null,
   "id": "39799fa3",
   "metadata": {},
   "outputs": [],
   "source": [
    "arr9=np.array([1,2,3,4,5,6,7,8,9,10,11,12])\n",
    "# change arr9 into two dimensional\n"
   ]
  },
  {
   "cell_type": "code",
   "execution_count": null,
   "id": "4e94b59d",
   "metadata": {},
   "outputs": [],
   "source": [
    "arr10=np.array([[11,12,33,44],[25,26,27,28]])\n",
    "arr10"
   ]
  },
  {
   "cell_type": "code",
   "execution_count": null,
   "id": "bac631f2",
   "metadata": {},
   "outputs": [],
   "source": [
    "# flattening array- convert multidimensional into one dimensional\n"
   ]
  },
  {
   "cell_type": "code",
   "execution_count": null,
   "id": "74e13bb7",
   "metadata": {},
   "outputs": [],
   "source": []
  },
  {
   "cell_type": "code",
   "execution_count": null,
   "id": "c6765282",
   "metadata": {},
   "outputs": [],
   "source": []
  }
 ],
 "metadata": {
  "kernelspec": {
   "display_name": "Python 3 (ipykernel)",
   "language": "python",
   "name": "python3"
  },
  "language_info": {
   "codemirror_mode": {
    "name": "ipython",
    "version": 3
   },
   "file_extension": ".py",
   "mimetype": "text/x-python",
   "name": "python",
   "nbconvert_exporter": "python",
   "pygments_lexer": "ipython3",
   "version": "3.9.13"
  }
 },
 "nbformat": 4,
 "nbformat_minor": 5
}
