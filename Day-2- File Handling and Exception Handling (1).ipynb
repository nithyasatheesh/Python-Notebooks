{
 "cells": [
  {
   "cell_type": "markdown",
   "id": "3d82b143",
   "metadata": {},
   "source": [
    "-  **File Handling**\n",
    "-  **Exception Handling**"
   ]
  },
  {
   "cell_type": "markdown",
   "id": "ed157271",
   "metadata": {},
   "source": [
    "##### File Handling\n",
    "\n",
    "- Opening/Reading/appending/writing text files\n",
    "- Text vs Binary mode\n",
    "- Text and Binary files"
   ]
  },
  {
   "cell_type": "code",
   "execution_count": null,
   "id": "ffbd005b",
   "metadata": {},
   "outputs": [],
   "source": [
    "## Opening files in Python"
   ]
  },
  {
   "cell_type": "raw",
   "id": "e8019588",
   "metadata": {},
   "source": [
    "Mode\n",
    "\n",
    "r opens a file for reading\n",
    "\n",
    "w opens a file for writing\n",
    "\n",
    "a opens a file for appending at the end of the file\n",
    "\n",
    "t opens in text mode\n",
    "\n",
    "b opens in binary mode"
   ]
  },
  {
   "cell_type": "code",
   "execution_count": 1,
   "id": "21662d59",
   "metadata": {},
   "outputs": [],
   "source": [
    "#open()\n",
    "f=open(\"D://Files//sample.txt\")\n",
    "f.close()"
   ]
  },
  {
   "cell_type": "code",
   "execution_count": 2,
   "id": "a7e4af60",
   "metadata": {},
   "outputs": [
    {
     "data": {
      "text/plain": [
       "'welcome allto new programWelcome to our country. '"
      ]
     },
     "execution_count": 2,
     "metadata": {},
     "output_type": "execute_result"
    }
   ],
   "source": [
    "#read()\n",
    "f=open(\"D://Files//sample.txt\",'r')\n",
    "f.read()"
   ]
  },
  {
   "cell_type": "code",
   "execution_count": 3,
   "id": "47500fc8",
   "metadata": {},
   "outputs": [],
   "source": [
    "f.close()"
   ]
  },
  {
   "cell_type": "code",
   "execution_count": 5,
   "id": "fd02f2ed",
   "metadata": {},
   "outputs": [
    {
     "data": {
      "text/plain": [
       "84"
      ]
     },
     "execution_count": 5,
     "metadata": {},
     "output_type": "execute_result"
    }
   ],
   "source": [
    "#write()\n",
    "f=open(\"sample.txt\",'w')\n",
    "f.write(\"This is the first sentence. This is the second sentence. This is the third senetence\")"
   ]
  },
  {
   "cell_type": "code",
   "execution_count": 6,
   "id": "8f70e1a5",
   "metadata": {},
   "outputs": [],
   "source": [
    "f.close()"
   ]
  },
  {
   "cell_type": "code",
   "execution_count": 7,
   "id": "4af5d02c",
   "metadata": {},
   "outputs": [
    {
     "data": {
      "text/plain": [
       "'This is the first sentence. This is the second sentence. This is the third senetence'"
      ]
     },
     "execution_count": 7,
     "metadata": {},
     "output_type": "execute_result"
    }
   ],
   "source": [
    "f=open(\"sample.txt\",'r')\n",
    "f.read()"
   ]
  },
  {
   "cell_type": "code",
   "execution_count": 8,
   "id": "bbd1624b",
   "metadata": {},
   "outputs": [],
   "source": [
    "f.close()"
   ]
  },
  {
   "cell_type": "code",
   "execution_count": 9,
   "id": "53734a2c",
   "metadata": {},
   "outputs": [],
   "source": [
    "## append --> add content--> mode='a'\n",
    "f=open(\"sample.txt\",'a')\n",
    "f.write(\"Welcome\")\n",
    "f.close()"
   ]
  },
  {
   "cell_type": "code",
   "execution_count": 10,
   "id": "f34e6189",
   "metadata": {},
   "outputs": [
    {
     "data": {
      "text/plain": [
       "'This is the first sentence. This is the second sentence. This is the third senetenceWelcome'"
      ]
     },
     "execution_count": 10,
     "metadata": {},
     "output_type": "execute_result"
    }
   ],
   "source": [
    "f=open(\"sample.txt\",'r')\n",
    "f.read()"
   ]
  },
  {
   "cell_type": "code",
   "execution_count": 11,
   "id": "e3f5ba14",
   "metadata": {},
   "outputs": [],
   "source": [
    "f.close()"
   ]
  },
  {
   "cell_type": "code",
   "execution_count": 14,
   "id": "a8c6f393",
   "metadata": {},
   "outputs": [
    {
     "data": {
      "text/plain": [
       "'Lists are created by [] or list(). Lists are iterables and mutables'"
      ]
     },
     "execution_count": 14,
     "metadata": {},
     "output_type": "execute_result"
    }
   ],
   "source": [
    "file2=open('new_sample1.txt','w+')\n",
    "file2.write(\"Lists are created by [] or list(). Lists are iterables and mutables\")\n",
    "file2.seek(0)\n",
    "file2.read()"
   ]
  },
  {
   "cell_type": "code",
   "execution_count": 15,
   "id": "6500c17d",
   "metadata": {},
   "outputs": [],
   "source": [
    "file2.close()"
   ]
  },
  {
   "cell_type": "code",
   "execution_count": 16,
   "id": "c3e8c077",
   "metadata": {},
   "outputs": [
    {
     "data": {
      "text/plain": [
       "'Strings are iterable and immuatables.sts are iterables and mutables'"
      ]
     },
     "execution_count": 16,
     "metadata": {},
     "output_type": "execute_result"
    }
   ],
   "source": [
    "file2=open('new_sample1.txt','r+')\n",
    "file2.write(\"Strings are iterable and immuatables.\")\n",
    "file2.seek(0)\n",
    "file2.read()"
   ]
  },
  {
   "cell_type": "code",
   "execution_count": 17,
   "id": "f36d6979",
   "metadata": {},
   "outputs": [],
   "source": [
    "file2.close()"
   ]
  },
  {
   "cell_type": "code",
   "execution_count": 18,
   "id": "71a93428",
   "metadata": {},
   "outputs": [
    {
     "data": {
      "text/plain": [
       "'Strings are iterable and immuatables.sts are iterables and mutablesLists are created by [] or list(). Lists are iterables and mutables'"
      ]
     },
     "execution_count": 18,
     "metadata": {},
     "output_type": "execute_result"
    }
   ],
   "source": [
    "file2=open('new_sample1.txt','a+')\n",
    "file2.write('Lists are created by [] or list(). Lists are iterables and mutables')\n",
    "file2.seek(0)\n",
    "file2.read()"
   ]
  },
  {
   "cell_type": "code",
   "execution_count": null,
   "id": "2ee621b0",
   "metadata": {},
   "outputs": [],
   "source": [
    "file2.close()"
   ]
  },
  {
   "cell_type": "markdown",
   "id": "d48e419e",
   "metadata": {},
   "source": [
    "##### with open()"
   ]
  },
  {
   "cell_type": "code",
   "execution_count": 26,
   "id": "5596caee",
   "metadata": {},
   "outputs": [
    {
     "name": "stdout",
     "output_type": "stream",
     "text": [
      "This is the first sentence. This is the second sentence. This is the third senetenceWelcome\n",
      "This is Python program\n",
      "This is Java program\n"
     ]
    }
   ],
   "source": [
    "with open(\"sample.txt\",'r') as f:\n",
    "    file1=f.read()\n",
    "    print(file1)"
   ]
  },
  {
   "cell_type": "code",
   "execution_count": 27,
   "id": "9a5c3279",
   "metadata": {},
   "outputs": [
    {
     "name": "stdout",
     "output_type": "stream",
     "text": [
      "This is the first sentence. This is the second sentence. This is the third senetenceWelcome\n",
      "\n"
     ]
    }
   ],
   "source": [
    "#f.readline()   # it reads single line\n",
    "with open(\"sample.txt\",'r') as g:\n",
    "    file1=g.readline()\n",
    "    print(file1)    "
   ]
  },
  {
   "cell_type": "code",
   "execution_count": 28,
   "id": "e7e549aa",
   "metadata": {},
   "outputs": [
    {
     "name": "stdout",
     "output_type": "stream",
     "text": [
      "['This is the first sentence. This is the second sentence. This is the third senetenceWelcome\\n', 'This is Python program\\n', 'This is Java program']\n"
     ]
    }
   ],
   "source": [
    "#f.readlines()   # it reads entire content\n",
    "with open(\"sample.txt\",'r') as f:\n",
    "    file1=f.readlines()\n",
    "    print(file1)      "
   ]
  },
  {
   "cell_type": "markdown",
   "id": "3f1aad3b",
   "metadata": {},
   "source": [
    "#### Exception handling"
   ]
  },
  {
   "cell_type": "markdown",
   "id": "fd558359",
   "metadata": {},
   "source": [
    "**Exception**: An exception is an event, which occurs during the execution of a program that disrupts the normal flow of the program's instructions. An object in Python that describes an error is called an exception.\n",
    "\n",
    "**Exceptions versus Syntax Errors**\n",
    "\n",
    "Syntax errors occur when the parser detects an incorrect statement\n",
    "\n",
    "Exception error is a type of error occurs whenever syntactically correct Python code results in an error."
   ]
  },
  {
   "cell_type": "markdown",
   "id": "eeec52f9",
   "metadata": {},
   "source": [
    "#### try and except  statements:  (else, finally-optional)\n",
    "\n",
    "- try: exception will be handled. test a block of code for errors\n",
    "- except: name of exception, additional msg.\n",
    "\n",
    "- else: block of code to be executed if no exceptions were found\n",
    "- finally: execute the result always."
   ]
  },
  {
   "cell_type": "code",
   "execution_count": 29,
   "id": "19b6bad7",
   "metadata": {},
   "outputs": [
    {
     "ename": "ZeroDivisionError",
     "evalue": "division by zero",
     "output_type": "error",
     "traceback": [
      "\u001b[1;31m---------------------------------------------------------------------------\u001b[0m",
      "\u001b[1;31mZeroDivisionError\u001b[0m                         Traceback (most recent call last)",
      "\u001b[1;32m~\\AppData\\Local\\Temp\\ipykernel_8524\\2540214553.py\u001b[0m in \u001b[0;36m<module>\u001b[1;34m\u001b[0m\n\u001b[1;32m----> 1\u001b[1;33m \u001b[0mprint\u001b[0m\u001b[1;33m(\u001b[0m\u001b[1;36m4\u001b[0m\u001b[1;33m/\u001b[0m\u001b[1;36m0\u001b[0m\u001b[1;33m)\u001b[0m\u001b[1;33m\u001b[0m\u001b[1;33m\u001b[0m\u001b[0m\n\u001b[0m",
      "\u001b[1;31mZeroDivisionError\u001b[0m: division by zero"
     ]
    }
   ],
   "source": [
    "print(4/0)"
   ]
  },
  {
   "cell_type": "code",
   "execution_count": 31,
   "id": "c420024c",
   "metadata": {
    "collapsed": true
   },
   "outputs": [
    {
     "name": "stdout",
     "output_type": "stream",
     "text": [
      "5\n",
      "0\n",
      "Error: Zero division\n",
      "End\n"
     ]
    }
   ],
   "source": [
    "try:\n",
    "    x=int(input())\n",
    "    y=int(input())\n",
    "    print(x/y)\n",
    "except:\n",
    "    print(\"Error: Zero division\")\n",
    "else:\n",
    "    print(\"No exception occured\")\n",
    "finally:\n",
    "    print(\"End\")"
   ]
  },
  {
   "cell_type": "code",
   "execution_count": 32,
   "id": "2392414a",
   "metadata": {
    "collapsed": true
   },
   "outputs": [
    {
     "ename": "NameError",
     "evalue": "name 'a' is not defined",
     "output_type": "error",
     "traceback": [
      "\u001b[1;31m---------------------------------------------------------------------------\u001b[0m",
      "\u001b[1;31mNameError\u001b[0m                                 Traceback (most recent call last)",
      "\u001b[1;32m~\\AppData\\Local\\Temp\\ipykernel_8524\\1449716907.py\u001b[0m in \u001b[0;36m<module>\u001b[1;34m\u001b[0m\n\u001b[0;32m      1\u001b[0m \u001b[1;31m### name error\u001b[0m\u001b[1;33m\u001b[0m\u001b[1;33m\u001b[0m\u001b[0m\n\u001b[1;32m----> 2\u001b[1;33m \u001b[0mprint\u001b[0m\u001b[1;33m(\u001b[0m\u001b[0ma\u001b[0m\u001b[1;33m)\u001b[0m\u001b[1;33m\u001b[0m\u001b[1;33m\u001b[0m\u001b[0m\n\u001b[0m",
      "\u001b[1;31mNameError\u001b[0m: name 'a' is not defined"
     ]
    }
   ],
   "source": [
    "### name error  #built in exception\n",
    "print(a)"
   ]
  },
  {
   "cell_type": "code",
   "execution_count": null,
   "id": "cf7d45b9",
   "metadata": {},
   "outputs": [],
   "source": [
    "try:\n",
    "    print(w)\n",
    "except NameError:\n",
    "    print('variable w is not defined')"
   ]
  },
  {
   "cell_type": "code",
   "execution_count": 33,
   "id": "4b8e24d1",
   "metadata": {},
   "outputs": [
    {
     "name": "stdout",
     "output_type": "stream",
     "text": [
      "Banu\n",
      "KeyError exception raised\n"
     ]
    }
   ],
   "source": [
    "### Key error:\n",
    "try:\n",
    "    mydict={1:'Tina',2:'Banu','3':'Peter'}\n",
    "    print(mydict[2])\n",
    "    print(mydict[4])\n",
    "except KeyError:\n",
    "    print(\"KeyError exception raised\")\n",
    "    "
   ]
  },
  {
   "cell_type": "code",
   "execution_count": 34,
   "id": "415df2fc",
   "metadata": {
    "collapsed": true
   },
   "outputs": [
    {
     "name": "stdout",
     "output_type": "stream",
     "text": [
      "3\n",
      "4\n",
      "Out of Index range\n"
     ]
    }
   ],
   "source": [
    "#### index error\n",
    "try:\n",
    "    l=[1,2,3,4,5]\n",
    "    print(l[2])\n",
    "    print(l[3])\n",
    "    print(l[6])\n",
    "except IndexError:\n",
    "    print(\"Out of Index range\")"
   ]
  },
  {
   "cell_type": "markdown",
   "id": "8eadec4e",
   "metadata": {},
   "source": [
    "#### raise and assert"
   ]
  },
  {
   "cell_type": "code",
   "execution_count": 35,
   "id": "b179fb5c",
   "metadata": {},
   "outputs": [
    {
     "name": "stdout",
     "output_type": "stream",
     "text": [
      "-9\n",
      "-9\n",
      "not a positive number\n"
     ]
    }
   ],
   "source": [
    "# raise -raising exceptions\n",
    "try:\n",
    "    a=int(input())\n",
    "    print(a)\n",
    "    if a<0:\n",
    "        raise ValueError(\"not a positive number\")\n",
    "except ValueError as e:\n",
    "    print(e)"
   ]
  },
  {
   "cell_type": "code",
   "execution_count": 36,
   "id": "da4834f4",
   "metadata": {},
   "outputs": [
    {
     "name": "stdout",
     "output_type": "stream",
     "text": [
      "0\n"
     ]
    },
    {
     "ename": "AssertionError",
     "evalue": "Zero Division Error",
     "output_type": "error",
     "traceback": [
      "\u001b[1;31m---------------------------------------------------------------------------\u001b[0m",
      "\u001b[1;31mAssertionError\u001b[0m                            Traceback (most recent call last)",
      "\u001b[1;32m~\\AppData\\Local\\Temp\\ipykernel_8524\\1918214675.py\u001b[0m in \u001b[0;36m<module>\u001b[1;34m\u001b[0m\n\u001b[0;32m      4\u001b[0m \u001b[0mb\u001b[0m\u001b[1;33m=\u001b[0m\u001b[0mint\u001b[0m\u001b[1;33m(\u001b[0m\u001b[0minput\u001b[0m\u001b[1;33m(\u001b[0m\u001b[1;33m)\u001b[0m\u001b[1;33m)\u001b[0m\u001b[1;33m\u001b[0m\u001b[1;33m\u001b[0m\u001b[0m\n\u001b[0;32m      5\u001b[0m \u001b[1;33m\u001b[0m\u001b[0m\n\u001b[1;32m----> 6\u001b[1;33m \u001b[1;32massert\u001b[0m \u001b[0mb\u001b[0m\u001b[1;33m!=\u001b[0m\u001b[1;36m0\u001b[0m\u001b[1;33m,\u001b[0m \u001b[1;34m\"Zero Division Error\"\u001b[0m  \u001b[1;31m# if condition is false then raise the exception\u001b[0m\u001b[1;33m\u001b[0m\u001b[1;33m\u001b[0m\u001b[0m\n\u001b[0m\u001b[0;32m      7\u001b[0m \u001b[0mprint\u001b[0m\u001b[1;33m(\u001b[0m\u001b[0ma\u001b[0m\u001b[1;33m/\u001b[0m\u001b[0mb\u001b[0m\u001b[1;33m)\u001b[0m\u001b[1;33m\u001b[0m\u001b[1;33m\u001b[0m\u001b[0m\n",
      "\u001b[1;31mAssertionError\u001b[0m: Zero Division Error"
     ]
    }
   ],
   "source": [
    "### assert\n",
    "# zerodivison error\n",
    "a=4\n",
    "b=int(input())\n",
    "\n",
    "assert b!=0, \"Zero Division Error\"  # if condition is false then raise the exception\n",
    "print(a/b)"
   ]
  },
  {
   "cell_type": "markdown",
   "id": "7e445ff5",
   "metadata": {},
   "source": [
    "#### Validating user age"
   ]
  },
  {
   "cell_type": "code",
   "execution_count": 39,
   "id": "1b44a6cd",
   "metadata": {
    "collapsed": true
   },
   "outputs": [
    {
     "name": "stdout",
     "output_type": "stream",
     "text": [
      "Please enter your age:7\n",
      "Valid age entered 7\n"
     ]
    }
   ],
   "source": [
    "while True:\n",
    "    try:\n",
    "        age=int(input('Please enter your age:'))\n",
    "        if 0<=age<=105:\n",
    "            print(\"Valid age entered\",age)\n",
    "            break\n",
    "        else:\n",
    "            print('Invalid age entered. Please enter a valid age between 0 and 105')\n",
    "    except ValueError:\n",
    "        print('Invalid input')\n",
    "        "
   ]
  },
  {
   "cell_type": "markdown",
   "id": "3fc625a6",
   "metadata": {},
   "source": [
    "#### reading file "
   ]
  },
  {
   "cell_type": "code",
   "execution_count": 42,
   "id": "20dce2a9",
   "metadata": {},
   "outputs": [
    {
     "name": "stdout",
     "output_type": "stream",
     "text": [
      "File not found\n"
     ]
    }
   ],
   "source": [
    "try:\n",
    "    with open(\"example.txt\",'r') as f:\n",
    "        content=f.read()\n",
    "    print(content)\n",
    "except FileNotFoundError:\n",
    "    print(\"File not found\")\n",
    "except PermissionError:\n",
    "    print(\" you don't have the required permission to read this file\")"
   ]
  },
  {
   "cell_type": "code",
   "execution_count": null,
   "id": "670f0f9d",
   "metadata": {},
   "outputs": [],
   "source": []
  }
 ],
 "metadata": {
  "kernelspec": {
   "display_name": "Python 3 (ipykernel)",
   "language": "python",
   "name": "python3"
  },
  "language_info": {
   "codemirror_mode": {
    "name": "ipython",
    "version": 3
   },
   "file_extension": ".py",
   "mimetype": "text/x-python",
   "name": "python",
   "nbconvert_exporter": "python",
   "pygments_lexer": "ipython3",
   "version": "3.9.13"
  }
 },
 "nbformat": 4,
 "nbformat_minor": 5
}
